{
 "cells": [
  {
   "cell_type": "markdown",
   "metadata": {
    "application/vnd.databricks.v1+cell": {
     "cellMetadata": {
      "byteLimit": 2048000,
      "rowLimit": 10000
     },
     "inputWidgets": {},
     "nuid": "36f9f228-a6d4-4112-ac74-64a0b564ac85",
     "showTitle": false,
     "title": ""
    }
   },
   "source": [
    "# CS4225/CS5425 Assignment 2\n"
   ]
  },
  {
   "cell_type": "markdown",
   "metadata": {
    "application/vnd.databricks.v1+cell": {
     "cellMetadata": {
      "byteLimit": 2048000,
      "rowLimit": 10000
     },
     "inputWidgets": {},
     "nuid": "ccfc2f1b-1142-4a36-ae5a-3a1deca6548a",
     "showTitle": false,
     "title": ""
    }
   },
   "source": [
    "## 1. Data Preparation"
   ]
  },
  {
   "cell_type": "code",
   "execution_count": 0,
   "metadata": {
    "application/vnd.databricks.v1+cell": {
     "cellMetadata": {
      "byteLimit": 2048000,
      "rowLimit": 10000
     },
     "inputWidgets": {},
     "nuid": "0f929355-ec00-4f51-afb8-5377dae666fe",
     "showTitle": false,
     "title": ""
    }
   },
   "outputs": [],
   "source": [
    "from pyspark.sql.functions import when, col, count, isnan, mean\n",
    "from pyspark.sql.types import IntegerType\n",
    "from pyspark.sql.functions import sum as spark_sum\n",
    "import csv"
   ]
  },
  {
   "cell_type": "code",
   "execution_count": 0,
   "metadata": {
    "application/vnd.databricks.v1+cell": {
     "cellMetadata": {
      "byteLimit": 2048000,
      "rowLimit": 10000
     },
     "inputWidgets": {},
     "nuid": "e05e5f3f-f08a-407a-9233-abb5fa4cfaf9",
     "showTitle": false,
     "title": ""
    }
   },
   "outputs": [
    {
     "output_type": "execute_result",
     "data": {
      "text/plain": [
       "True"
      ]
     },
     "execution_count": 2,
     "metadata": {},
     "output_type": "execute_result"
    }
   ],
   "source": [
    "dbutils.fs.rm(\"dbfs:/FileStore/tables/small_df_public_150.parquet\", recurse=True)"
   ]
  },
  {
   "cell_type": "code",
   "execution_count": 0,
   "metadata": {
    "application/vnd.databricks.v1+cell": {
     "cellMetadata": {
      "byteLimit": 2048000,
      "rowLimit": 10000
     },
     "inputWidgets": {},
     "nuid": "d4a36cb7-610a-4f6f-b975-bed2be9a78df",
     "showTitle": false,
     "title": ""
    }
   },
   "outputs": [
    {
     "output_type": "stream",
     "name": "stdout",
     "output_type": "stream",
     "text": [
      "+----------+------------+-------------+----------------+--------------------+--------------------+----------------+-------------+-----------+--------------+------------+----+---------------------+---------------------+---------------------+-----------------+-------------+-------------------------+--------------------+----------------------+-------------------+--------------------+------------------+-------------------+----------------+------------+----------------------+----------------+-----------------+------------+----------+-----+------------+---------+--------------------+--------------------+-----------------+---------------+-------------------------+------------+----------------------+-------------------+---------------------+--------------------+---------------------------+--------------------+---------------------+----------------------+------------+-----------+---------+-----------------+---------------+\n|LoanNumber|DateApproved|SBAOfficeCode|ProcessingMethod|        BorrowerName|     BorrowerAddress|    BorrowerCity|BorrowerState|BorrowerZip|LoanStatusDate|  LoanStatus|Term|SBAGuarantyPercentage|InitialApprovalAmount|CurrentApprovalAmount|UndisbursedAmount|FranchiseName|ServicingLenderLocationID| ServicingLenderName|ServicingLenderAddress|ServicingLenderCity|ServicingLenderState|ServicingLenderZip|RuralUrbanIndicator|HubzoneIndicator|LMIIndicator|BusinessAgeDescription|     ProjectCity|ProjectCountyName|ProjectState|ProjectZip|   CD|JobsReported|NAICSCode|                Race|           Ethnicity|UTILITIES_PROCEED|PAYROLL_PROCEED|MORTGAGE_INTEREST_PROCEED|RENT_PROCEED|REFINANCE_EIDL_PROCEED|HEALTH_CARE_PROCEED|DEBT_INTEREST_PROCEED|        BusinessType|OriginatingLenderLocationID|   OriginatingLender|OriginatingLenderCity|OriginatingLenderState|      Gender|    Veteran|NonProfit|ForgivenessAmount|ForgivenessDate|\n+----------+------------+-------------+----------------+--------------------+--------------------+----------------+-------------+-----------+--------------+------------+----+---------------------+---------------------+---------------------+-----------------+-------------+-------------------------+--------------------+----------------------+-------------------+--------------------+------------------+-------------------+----------------+------------+----------------------+----------------+-----------------+------------+----------+-----+------------+---------+--------------------+--------------------+-----------------+---------------+-------------------------+------------+----------------------+-------------------+---------------------+--------------------+---------------------------+--------------------+---------------------+----------------------+------------+-----------+---------+-----------------+---------------+\n|9547507704|  2020-05-01|          464|             PPP|SUMTER COATINGS, ...|2410 Highway 15 S...|          Sumter|         NULL| 29150-9662|    12/18/2020|Paid in Full|  24|                  100|            769358.78|            769358.78|              0.0|         NULL|                    19248|        Synovus Bank|         1148 Broadway|           COLUMBUS|                  GA|        31901-2429|                  U|               N|           N|  Existing or more ...|          Sumter|           SUMTER|          SC|29150-9662|SC-05|          62|   325510|          Unanswered|   Unknown/NotStated|             NULL|      769358.78|                     NULL|        NULL|                  NULL|               NULL|                 NULL|         Corporation|                      19248|        Synovus Bank|             COLUMBUS|                    GA|  Unanswered| Unanswered|     NULL|        773553.37|     11/20/2020|\n|9777677704|  2020-05-01|          464|             PPP|PLEASANT PLACES, ...| 7684 Southrail Road|North Charleston|         NULL| 29420-9000|    09/28/2021|Paid in Full|  24|                  100|            736927.79|            736927.79|              0.0|         NULL|                    19248|        Synovus Bank|         1148 Broadway|           COLUMBUS|                  GA|        31901-2429|                  U|               Y|           Y|  Existing or more ...|North Charleston|       CHARLESTON|          SC|29420-9000|SC-06|          73|   561730|               White|   Unknown/NotStated|             NULL|      736927.79|                     NULL|        NULL|                  NULL|               NULL|                 NULL| Sole Proprietorship|                      19248|        Synovus Bank|             COLUMBUS|                    GA|  Male Owned|Non-Veteran|     NULL|        746336.24|     08/12/2021|\n|5791407702|  2020-05-01|         1013|             PPP|BOYER CHILDREN'S ...|    1850 BOYER AVE E|         SEATTLE|         NULL| 98112-2922|    03/17/2021|Paid in Full|  24|                  100|             691355.0|             691355.0|              0.0|         NULL|                     9551|Bank of America, ...|  100 N Tryon St, S...|          CHARLOTTE|                  NC|        28202-4024|                  U|               N|           N|  New Business or 2...|         SEATTLE|             KING|          WA|98112-2922|WA-07|          75|     NULL|          Unanswered|   Unknown/NotStated|             NULL|       691355.0|                     NULL|        NULL|                  NULL|               NULL|                 NULL|Non-Profit Organi...|                       9551|Bank of America, ...|            CHARLOTTE|                    NC|  Unanswered| Unanswered|        Y|        696677.49|     02/10/2021|\n|6223567700|  2020-05-01|          920|             PPP|KIRTLEY CONSTRUCT...|1661 MARTIN RANCH RD|  SAN BERNARDINO|         NULL| 92407-1740|    10/16/2021|Paid in Full|  24|                  100|             499871.0|             499871.0|              0.0|         NULL|                     9551|Bank of America, ...|  100 N Tryon St, S...|          CHARLOTTE|                  NC|        28202-4024|                  U|               N|           N|  New Business or 2...|  SAN BERNARDINO|   SAN BERNARDINO|          CA|92407-1740|CA-23|          21|   236115|American Indian o...|Not Hispanic or L...|             NULL|       499871.0|                     NULL|        NULL|                  NULL|               NULL|                 NULL|         Corporation|                       9551|Bank of America, ...|            CHARLOTTE|                    NC|  Male Owned|Non-Veteran|     NULL|        395264.11|     09/10/2021|\n|9662437702|  2020-05-01|          101|             PPP|        AERO BOX LLC|                 N/A|             N/A|         NULL|       NULL|    08/17/2021|Paid in Full|  24|                  100|             367437.0|             367437.0|              0.0|         NULL|                    57328|The Huntington Na...|         17 S High St.|           COLUMBUS|                  OH|        43215-3413|                  U|               N|           N|            Unanswered|             N/A|             NULL|          NA|       N/A| NULL|          25|   484210|          Unanswered|   Unknown/NotStated|             NULL|       367437.0|                     NULL|        NULL|                  NULL|               NULL|                 NULL|                NULL|                      57328|The Huntington Na...|             COLUMBUS|                    OH|  Unanswered| Unanswered|     NULL|        370819.35|     04/08/2021|\n|9774337701|  2020-05-01|          101|             PPP|HUDSON EXTRUSIONS...|                 N/A|             N/A|         NULL|       NULL|    11/17/2021|Paid in Full|  24|                  100|             328840.0|             328840.0|              0.0|         NULL|                    57328|The Huntington Na...|         17 S High St.|           COLUMBUS|                  OH|        43215-3413|                  U|               N|           N|            Unanswered|             N/A|             NULL|          NA|       N/A| NULL|          22|   326199|          Unanswered|   Unknown/NotStated|             NULL|       328840.0|                     NULL|        NULL|                  NULL|               NULL|                 NULL|                NULL|                      57328|The Huntington Na...|             COLUMBUS|                    OH|  Unanswered| Unanswered|     NULL|        332137.41|     05/10/2021|\n|9794577700|  2020-05-01|          491|             PPP|FRUIT COVE BAPTIS...|   501 State Road 13|     Saint Johns|         NULL| 32259-2832|    02/19/2021|Paid in Full|  24|                  100|             289765.0|             289765.0|              0.0|         NULL|                    19248|        Synovus Bank|         1148 Broadway|           COLUMBUS|                  GA|        31901-2429|                  U|               N|           N|  Existing or more ...|     Saint Johns|      SAINT JOHNS|          FL|32259-2832|FL-05|          89|   813110|          Unanswered|   Unknown/NotStated|             NULL|       289765.0|                     NULL|        NULL|                  NULL|               NULL|                 NULL|Non-Profit Organi...|                      19248|        Synovus Bank|             COLUMBUS|                    GA|  Unanswered| Unanswered|        Y|        291741.75|     01/07/2021|\n|9722187702|  2020-05-01|          101|             PPP|MIAMITOWN AUTO PA...|                 N/A|             N/A|         NULL|       NULL|    02/24/2021|Paid in Full|  24|                  100|             272380.0|             272380.0|              0.0|         NULL|                    57328|The Huntington Na...|         17 S High St.|           COLUMBUS|                  OH|        43215-3413|                  U|               N|           N|            Unanswered|             N/A|             NULL|          NA|       N/A| NULL|          19|   423140|          Unanswered|   Unknown/NotStated|             NULL|       272380.0|                     NULL|        NULL|                  NULL|               NULL|                 NULL|         Corporation|                      57328|The Huntington Na...|             COLUMBUS|                    OH|  Unanswered| Unanswered|     NULL|        269416.44|     01/25/2021|\n|9725917702|  2020-05-01|          101|             PPP|      POPPYCOCKS INC|                 N/A|             N/A|         NULL|       NULL|    08/17/2021|Paid in Full|  24|                  100|             257088.0|             257088.0|              0.0|         NULL|                    57328|The Huntington Na...|         17 S High St.|           COLUMBUS|                  OH|        43215-3413|                  U|               N|           N|            Unanswered|             N/A|             NULL|          NA|       N/A| NULL|          18|   444220|          Unanswered|   Unknown/NotStated|             NULL|       257088.0|                     NULL|        NULL|                  NULL|               NULL|                 NULL|Subchapter S Corp...|                      57328|The Huntington Na...|             COLUMBUS|                    OH|  Unanswered| Unanswered|     NULL|        259982.88|     06/24/2021|\n|9666867710|  2020-05-01|          101|             PPP|CHURCH SQUARE PHA...|                 N/A|             N/A|         NULL|       NULL|    04/21/2021|Paid in Full|  24|                  100|             250000.0|             250000.0|              0.0|         NULL|                    57328|The Huntington Na...|         17 S High St.|           COLUMBUS|                  OH|        43215-3413|                  U|               N|           N|            Unanswered|             N/A|             NULL|          NA|       N/A| NULL|          17|   424210|          Unanswered|   Unknown/NotStated|             NULL|       250000.0|                     NULL|        NULL|                  NULL|               NULL|                 NULL|         Corporation|                      57328|The Huntington Na...|             COLUMBUS|                    OH|  Unanswered| Unanswered|     NULL|        252253.42|     03/31/2021|\n|9662697710|  2020-05-01|          101|             PPP|MILFAST INDUSTRIA...|                 N/A|             N/A|         NULL|       NULL|    11/17/2021|Paid in Full|  24|                  100|             174046.0|             174046.0|              0.0|         NULL|                    57328|The Huntington Na...|         17 S High St.|           COLUMBUS|                  OH|        43215-3413|                  U|               N|           N|  Existing or more ...|             N/A|             NULL|          NA|       N/A| NULL|          18|   423840|          Unanswered|   Unknown/NotStated|             NULL|       174046.0|                     NULL|        NULL|                  NULL|               NULL|                 NULL|                NULL|                      57328|The Huntington Na...|             COLUMBUS|                    OH|Female Owned|Non-Veteran|     NULL|        175643.41|     04/06/2021|\n|9724667708|  2020-05-01|          101|             PPP|FERNANDINA BEACH ...|                 N/A|             N/A|         NULL|       NULL|    08/17/2021|Paid in Full|  24|                  100|             170170.0|             170170.0|              0.0|         NULL|                    57328|The Huntington Na...|         17 S High St.|           COLUMBUS|                  OH|        43215-3413|                  U|               N|           N|            Unanswered|             N/A|             NULL|          NA|       N/A| NULL|          12|   721110|          Unanswered|   Unknown/NotStated|             NULL|       170170.0|                     NULL|        NULL|                  NULL|               NULL|                 NULL|Limited  Liabilit...|                      57328|The Huntington Na...|             COLUMBUS|                    OH|  Unanswered| Unanswered|     NULL|        172263.32|     07/29/2021|\n|9672967701|  2020-05-01|          101|             PPP|OTTAWA PRODUCTS C...|                 N/A|             N/A|         NULL|       NULL|    11/17/2021|Paid in Full|  24|                  100|             155010.0|             155010.0|              0.0|         NULL|                    57328|The Huntington Na...|         17 S High St.|           COLUMBUS|                  OH|        43215-3413|                  U|               N|           N|            Unanswered|             N/A|             NULL|          NA|       N/A| NULL|          11|   332510|          Unanswered|   Unknown/NotStated|             NULL|       155010.0|                     NULL|        NULL|                  NULL|               NULL|                 NULL|         Corporation|                      57328|The Huntington Na...|             COLUMBUS|                    OH|  Unanswered| Unanswered|     NULL|        156504.89|     04/23/2021|\n|5502308207|  2020-08-08|         1084|             PPP|KAKIVIK ASSET MAN...|5015 BUSINESS PAR...|       ANCHORAGE|           AK| 99503-7146|    07/22/2021|Paid in Full|  60|                  100|            9571397.0|            9538531.0|              0.0|         NULL|                   116975|       Northrim Bank|           3111 'C' St|          ANCHORAGE|                  AK|             99503|                  U|               Y|           Y|  Existing or more ...|       ANCHORAGE|        ANCHORAGE|          AK|99503-7146|  AK-|         385|   541990|          Unanswered|   Unknown/NotStated|             NULL|      9538531.0|                     NULL|        NULL|                  NULL|               NULL|                 NULL|Limited  Liabilit...|                     116975|       Northrim Bank|            ANCHORAGE|                    AK|  Unanswered| Unanswered|     NULL|       9615884.57|     06/11/2021|\n|6110847106|  2020-04-14|         1084|             PPP|ARCTIC SLOPE NATI...|        7000 Uula St|          BARROW|           AK|      99723|    08/21/2021|Paid in Full|  24|                  100|            7666768.0|            7666768.0|              0.0|         NULL|                    89628|National Cooperat...|         139 S High St|          HILLSBORO|                  OH|        45133-1442|                  R|               N|           N|  Existing or more ...|          BARROW|      NORTH SLOPE|          AK|99723-0001|  AK-|         295|   813920|          Unanswered|   Unknown/NotStated|             NULL|      7666768.0|                     NULL|        NULL|                  NULL|               NULL|                 NULL|Non-Profit Organi...|                      89628|National Cooperat...|            HILLSBORO|                    OH|  Unanswered| Unanswered|        Y|       7761324.81|     07/13/2021|\n|4539098204|  2020-08-06|         1084|             PPP| CORVUS AIRLINES INC|4700 Old Internat...|       Anchorage|           AK| 99502-1130|          NULL| Exemption 4|  60|                  100|           7398947.89|           7398947.89|              0.0|         NULL|                   436276|    Idaho First Bank|     475 E Deinhard Ln|             MCCALL|                  ID|        83638-4800|                  U|               N|           N|  Existing or more ...|       Anchorage|        ANCHORAGE|          AK|99502-1130|  AK-|         500|   481111|          Unanswered|   Unknown/NotStated|             NULL|     7398947.89|                     NULL|        NULL|                  NULL|               NULL|                 NULL|         Corporation|                     436276|    Idaho First Bank|               MCCALL|                    ID|  Unanswered| Unanswered|     NULL|       4891430.37|     06/22/2022|\n|5120868804|  2021-04-17|         1084|             PPP|HOPE COMMUNITY RE...|540 W Intl Airpor...|       Anchorage|           AK| 99518-1105|    10/06/2022|Paid in Full|  60|                  100|            7223025.0|            7223025.0|              0.0|         NULL|                     3386|First National Ba...|        101 W 36th Ave|          ANCHORAGE|                  AK|        99503-5904|                  U|               N|           N|  Existing or more ...|       Anchorage|        ANCHORAGE|          AK|99518-1105|  AK-|         500|   624120|          Unanswered|   Unknown/NotStated|             NULL|      7223025.0|                     NULL|        NULL|                  NULL|               NULL|                 NULL|501(c)3 – Non Profit|                       3386|First National Ba...|            ANCHORAGE|                    AK|  Unanswered| Unanswered|        Y|       7321970.55|     09/13/2022|\n|6650277102|  2020-04-14|         1084|             PPP|SOUTH PENINSULA H...|4300 BARTLETT STREET|           HOMER|           AK|      99603|    06/09/2021|Paid in Full|  24|                  100|            6528631.4|            6528631.4|              0.0|         NULL|                     3386|First National Ba...|        101 W 36th Ave|          ANCHORAGE|                  AK|        99503-5904|                  R|               Y|           N|  Existing or more ...|           HOMER|  KENAI PENINSULA|          AK|99603-0001|  AK-|         439|   622110|          Unanswered|   Unknown/NotStated|             NULL|     5037890.65|                     NULL|        NULL|                  NULL|         1490740.75|                 NULL|         Corporation|                       3386|First National Ba...|            ANCHORAGE|                    AK|  Unanswered| Unanswered|     NULL|       6598389.38|     05/18/2021|\n|6732787302|  2020-04-30|         1084|             PPP|TYONEK GLOBAL SER...|           1689 C ST|       ANCHORAGE|           AK|      99501|          NULL| Exemption 4|  66|                  100|            6422316.0|            6422316.0|              0.0|         NULL|                    44449|PNC Bank, Nationa...|      222 Delaware Ave|         WILMINGTON|                  DE|        19801-1621|                  U|               Y|           Y|  Existing or more ...|       ANCHORAGE|        ANCHORAGE|          AK|99501-5115|  AK-|         478|   611420|          Unanswered|   Unknown/NotStated|             NULL|      6422316.0|                     NULL|        NULL|                  NULL|               NULL|                 NULL|Limited  Liabilit...|                        760|First Source Fede...|           BIRMINGHAM|                    AL|  Unanswered| Unanswered|     NULL|       4353656.88|     07/14/2022|\n|6735557309|  2020-04-30|         1084|             PPP|TYONEK WORLDWIDE ...|           1689 C ST|       ANCHORAGE|           AK|      99501|          NULL| Exemption 4|  60|                  100|            6412487.0|            6412487.0|              0.0|         NULL|                    44449|PNC Bank, Nationa...|      222 Delaware Ave|         WILMINGTON|                  DE|        19801-1621|                  U|               Y|           Y|  Existing or more ...|       ANCHORAGE|        ANCHORAGE|          AK|99501-5115|  AK-|          42|   488190|          Unanswered|   Unknown/NotStated|             NULL|      6412487.0|                     NULL|        NULL|                  NULL|               NULL|                 NULL|Subchapter S Corp...|                        760|First Source Fede...|           BIRMINGHAM|                    AL|  Unanswered| Unanswered|     NULL|       6226308.99|     10/21/2022|\n+----------+------------+-------------+----------------+--------------------+--------------------+----------------+-------------+-----------+--------------+------------+----+---------------------+---------------------+---------------------+-----------------+-------------+-------------------------+--------------------+----------------------+-------------------+--------------------+------------------+-------------------+----------------+------------+----------------------+----------------+-----------------+------------+----------+-----+------------+---------+--------------------+--------------------+-----------------+---------------+-------------------------+------------+----------------------+-------------------+---------------------+--------------------+---------------------------+--------------------+---------------------+----------------------+------------+-----------+---------+-----------------+---------------+\nonly showing top 20 rows\n\n"
     ]
    }
   ],
   "source": [
    "public_150_file_path = \"dbfs:/FileStore/tables/public_150k_plus_230930.csv\"\n",
    "df_public_150 = spark.read.csv(public_150_file_path, header=True, inferSchema=True)\n",
    "df_public_150.show()"
   ]
  },
  {
   "cell_type": "code",
   "execution_count": 0,
   "metadata": {
    "application/vnd.databricks.v1+cell": {
     "cellMetadata": {
      "byteLimit": 2048000,
      "rowLimit": 10000
     },
     "inputWidgets": {},
     "nuid": "affd1b58-04d2-4655-98e9-d749533b1b3e",
     "showTitle": false,
     "title": ""
    }
   },
   "outputs": [],
   "source": [
    "# def custom_parser(line):\n",
    "#     return next(csv.reader([line], delimiter=','))\n",
    "\n",
    "# rdd = spark.sparkContext.textFile(\"dbfs:/FileStore/tables/public_150k_plus_230930.csv\")\n",
    "# header = rdd.first()\n",
    "# data_rdd = rdd.filter(lambda line: line != header)\n",
    "\n",
    "# parsed_rdd = data_rdd.map(custom_parser)\n",
    "# df_public_150 = parsed_rdd.toDF(header.split(','))"
   ]
  },
  {
   "cell_type": "code",
   "execution_count": 0,
   "metadata": {
    "application/vnd.databricks.v1+cell": {
     "cellMetadata": {
      "byteLimit": 2048000,
      "rowLimit": 10000
     },
     "inputWidgets": {},
     "nuid": "3d8040fe-5260-4c4b-82fd-c735141de13c",
     "showTitle": false,
     "title": ""
    }
   },
   "outputs": [
    {
     "output_type": "display_data",
     "data": {
      "text/html": [
       "<style scoped>\n",
       "  .table-result-container {\n",
       "    max-height: 300px;\n",
       "    overflow: auto;\n",
       "  }\n",
       "  table, th, td {\n",
       "    border: 1px solid black;\n",
       "    border-collapse: collapse;\n",
       "  }\n",
       "  th, td {\n",
       "    padding: 5px;\n",
       "  }\n",
       "  th {\n",
       "    text-align: left;\n",
       "  }\n",
       "</style><div class='table-result-container'><table class='table-result'><thead style='background-color: white'><tr><th>LoanStatus</th></tr></thead><tbody><tr><td>Charged Off</td></tr><tr><td>Exemption 4</td></tr><tr><td>Paid in Full</td></tr><tr><td>08/19/2021</td></tr><tr><td>01/13/2022</td></tr><tr><td>02/18/2021</td></tr></tbody></table></div>"
      ]
     },
     "metadata": {
      "application/vnd.databricks.v1+output": {
       "addedWidgets": {},
       "aggData": [],
       "aggError": "",
       "aggOverflow": false,
       "aggSchema": [],
       "aggSeriesLimitReached": false,
       "aggType": "",
       "arguments": {},
       "columnCustomDisplayInfos": {},
       "data": [
        [
         "Charged Off"
        ],
        [
         "Exemption 4"
        ],
        [
         "Paid in Full"
        ],
        [
         "08/19/2021"
        ],
        [
         "01/13/2022"
        ],
        [
         "02/18/2021"
        ]
       ],
       "datasetInfos": [],
       "dbfsResultPath": null,
       "isJsonSchema": true,
       "metadata": {},
       "overflow": false,
       "plotOptions": {
        "customPlotOptions": {},
        "displayType": "table",
        "pivotAggregation": null,
        "pivotColumns": null,
        "xColumns": null,
        "yColumns": null
       },
       "removedWidgets": [],
       "schema": [
        {
         "metadata": "{}",
         "name": "LoanStatus",
         "type": "\"string\""
        }
       ],
       "type": "table"
      }
     },
     "output_type": "display_data"
    },
    {
     "output_type": "stream",
     "name": "stdout",
     "output_type": "stream",
     "text": [
      "+------------+------+\n|  LoanStatus| count|\n+------------+------+\n| Charged Off| 15879|\n| Exemption 4| 15093|\n|Paid in Full|937550|\n|  08/19/2021|     1|\n|  01/13/2022|     1|\n|  02/18/2021|     1|\n+------------+------+\n\n"
     ]
    }
   ],
   "source": [
    "display(df_public_150.select(\"LoanStatus\").distinct())\n",
    "\n",
    "df2 = df_public_150.groupBy(\"LoanStatus\").count()\n",
    "df2.show()"
   ]
  },
  {
   "cell_type": "code",
   "execution_count": 0,
   "metadata": {
    "application/vnd.databricks.v1+cell": {
     "cellMetadata": {
      "byteLimit": 2048000,
      "rowLimit": 10000
     },
     "inputWidgets": {},
     "nuid": "b98f0779-5778-4775-99ce-b62c6675524b",
     "showTitle": false,
     "title": ""
    }
   },
   "outputs": [
    {
     "output_type": "stream",
     "name": "stdout",
     "output_type": "stream",
     "text": [
      "+------------+-----+\n|  LoanStatus|count|\n+------------+-----+\n| Charged Off|15879|\n| Exemption 4|15093|\n|Paid in Full|31221|\n+------------+-----+\n\n"
     ]
    }
   ],
   "source": [
    "small_df_public_150 = df_public_150.sampleBy(\"LoanStatus\", fractions={\"Charged Off\": 1, \"Exemption 4\": 1, \"Paid in Full\": (15093+15879)/937553}, seed=42)\n",
    "df2 = small_df_public_150.groupBy(\"LoanStatus\").count()\n",
    "df2.show()"
   ]
  },
  {
   "cell_type": "code",
   "execution_count": 0,
   "metadata": {
    "application/vnd.databricks.v1+cell": {
     "cellMetadata": {
      "byteLimit": 2048000,
      "rowLimit": 10000
     },
     "inputWidgets": {},
     "nuid": "5638ccc9-75ad-4334-847d-242529cb7fd8",
     "showTitle": false,
     "title": ""
    }
   },
   "outputs": [
    {
     "output_type": "execute_result",
     "data": {
      "text/plain": [
       "DataFrame[LoanNumber: bigint, DateApproved: date, SBAOfficeCode: int, ProcessingMethod: string, BorrowerName: string, BorrowerAddress: string, BorrowerCity: string, BorrowerState: string, BorrowerZip: string, LoanStatusDate: string, LoanStatus: string, Term: string, SBAGuarantyPercentage: int, InitialApprovalAmount: double, CurrentApprovalAmount: double, UndisbursedAmount: double, FranchiseName: string, ServicingLenderLocationID: int, ServicingLenderName: string, ServicingLenderAddress: string, ServicingLenderCity: string, ServicingLenderState: string, ServicingLenderZip: string, RuralUrbanIndicator: string, HubzoneIndicator: string, LMIIndicator: string, BusinessAgeDescription: string, ProjectCity: string, ProjectCountyName: string, ProjectState: string, ProjectZip: string, CD: string, JobsReported: string, NAICSCode: int, Race: string, Ethnicity: string, UTILITIES_PROCEED: string, PAYROLL_PROCEED: double, MORTGAGE_INTEREST_PROCEED: double, RENT_PROCEED: double, REFINANCE_EIDL_PROCEED: double, HEALTH_CARE_PROCEED: double, DEBT_INTEREST_PROCEED: double, BusinessType: string, OriginatingLenderLocationID: string, OriginatingLender: string, OriginatingLenderCity: string, OriginatingLenderState: string, Gender: string, Veteran: string, NonProfit: string, ForgivenessAmount: double, ForgivenessDate: string]"
      ]
     },
     "execution_count": 7,
     "metadata": {},
     "output_type": "execute_result"
    }
   ],
   "source": [
    "small_df_public_150.cache()"
   ]
  },
  {
   "cell_type": "code",
   "execution_count": 0,
   "metadata": {
    "application/vnd.databricks.v1+cell": {
     "cellMetadata": {
      "byteLimit": 2048000,
      "rowLimit": 10000
     },
     "inputWidgets": {},
     "nuid": "037ff79a-3793-419c-b6db-edac978034a6",
     "showTitle": false,
     "title": ""
    }
   },
   "outputs": [
    {
     "output_type": "stream",
     "name": "stdout",
     "output_type": "stream",
     "text": [
      "+----------+-----+\n|LoanStatus|count|\n+----------+-----+\n|         0|30972|\n|         1|31221|\n+----------+-----+\n\n"
     ]
    }
   ],
   "source": [
    "mapping_dict = {\"Paid in Full\": 1, \"Charged Off\": 0, \"Exemption 4\": 0}\n",
    "\n",
    "for old_value, new_value in mapping_dict.items():\n",
    "    small_df_public_150 = small_df_public_150.withColumn(\"LoanStatus\", when(small_df_public_150[\"LoanStatus\"] == old_value, new_value).otherwise(small_df_public_150[\"LoanStatus\"]))\n",
    "\n",
    "small_df_public_150.groupBy(\"LoanStatus\").count().show()"
   ]
  },
  {
   "cell_type": "code",
   "execution_count": 0,
   "metadata": {
    "application/vnd.databricks.v1+cell": {
     "cellMetadata": {
      "byteLimit": 2048000,
      "rowLimit": 10000
     },
     "inputWidgets": {},
     "nuid": "d08bf1e1-7794-4752-87f3-e0bb92d1cf8e",
     "showTitle": false,
     "title": ""
    }
   },
   "outputs": [],
   "source": [
    "small_df_path = \"dbfs:/FileStore/tables/small_df_public_150.parquet\"\n",
    "\n",
    "small_df_public_150.write.parquet(small_df_path)\n"
   ]
  },
  {
   "cell_type": "code",
   "execution_count": 0,
   "metadata": {
    "application/vnd.databricks.v1+cell": {
     "cellMetadata": {
      "byteLimit": 2048000,
      "rowLimit": 10000
     },
     "inputWidgets": {},
     "nuid": "32187059-5813-4a6c-8957-6bc4551791e2",
     "showTitle": false,
     "title": ""
    }
   },
   "outputs": [],
   "source": [
    "from pyspark.sql.functions import when, col, count, isnan, mean\n",
    "from pyspark.sql.types import IntegerType\n",
    "from pyspark.sql.functions import sum as spark_sum"
   ]
  },
  {
   "cell_type": "code",
   "execution_count": 0,
   "metadata": {
    "application/vnd.databricks.v1+cell": {
     "cellMetadata": {
      "byteLimit": 2048000,
      "rowLimit": 10000
     },
     "inputWidgets": {},
     "nuid": "6bfa61b0-de3b-4ba5-bb9c-f464de94c732",
     "showTitle": false,
     "title": ""
    }
   },
   "outputs": [],
   "source": [
    "small_df_public_150_path = \"dbfs:/FileStore/tables/small_df_public_150.parquet\"\n",
    "small_df_public_150 = spark.read.parquet(small_df_public_150_path, header=True, inferSchema=True)"
   ]
  },
  {
   "cell_type": "code",
   "execution_count": 0,
   "metadata": {
    "application/vnd.databricks.v1+cell": {
     "cellMetadata": {
      "byteLimit": 2048000,
      "rowLimit": 10000
     },
     "inputWidgets": {},
     "nuid": "d466d1ca-b610-4425-a2ef-df835e841dd1",
     "showTitle": false,
     "title": ""
    }
   },
   "outputs": [],
   "source": [
    "cols_not_avail_at_loan_time = [\"LoanNumber\",\"DateApproved\",\"SBAOfficeCode\",\"ProcessingMethod\",\"LoanStatusDate\",\"SBAGuarantyPercentage\",\"CurrentApprovalAmount\",\"UndisbursedAmount\",\"ServicingLenderLocationID\",\"ServicingLenderName\",\"ServicingLenderAddress\",\"ServicingLenderCity\",\"ServicingLenderState\",\"ServicingLenderZip\",\"ForgivenessAmount\",\"ForgivenessDate\"]\n",
    "small_df_public_150 = small_df_public_150.drop(*cols_not_avail_at_loan_time)"
   ]
  },
  {
   "cell_type": "code",
   "execution_count": 0,
   "metadata": {
    "application/vnd.databricks.v1+cell": {
     "cellMetadata": {
      "byteLimit": 2048000,
      "rowLimit": 10000
     },
     "inputWidgets": {},
     "nuid": "6fe04ccd-28fd-490e-a4db-10516a5a18a0",
     "showTitle": false,
     "title": ""
    }
   },
   "outputs": [
    {
     "output_type": "stream",
     "name": "stdout",
     "output_type": "stream",
     "text": [
      "root\n |-- BorrowerName: string (nullable = true)\n |-- BorrowerAddress: string (nullable = true)\n |-- BorrowerCity: string (nullable = true)\n |-- BorrowerState: string (nullable = true)\n |-- BorrowerZip: string (nullable = true)\n |-- LoanStatus: string (nullable = true)\n |-- Term: string (nullable = true)\n |-- InitialApprovalAmount: double (nullable = true)\n |-- FranchiseName: string (nullable = true)\n |-- RuralUrbanIndicator: string (nullable = true)\n |-- HubzoneIndicator: string (nullable = true)\n |-- LMIIndicator: string (nullable = true)\n |-- BusinessAgeDescription: string (nullable = true)\n |-- ProjectCity: string (nullable = true)\n |-- ProjectCountyName: string (nullable = true)\n |-- ProjectState: string (nullable = true)\n |-- ProjectZip: string (nullable = true)\n |-- CD: string (nullable = true)\n |-- JobsReported: string (nullable = true)\n |-- NAICSCode: integer (nullable = true)\n |-- Race: string (nullable = true)\n |-- Ethnicity: string (nullable = true)\n |-- UTILITIES_PROCEED: string (nullable = true)\n |-- PAYROLL_PROCEED: double (nullable = true)\n |-- MORTGAGE_INTEREST_PROCEED: double (nullable = true)\n |-- RENT_PROCEED: double (nullable = true)\n |-- REFINANCE_EIDL_PROCEED: double (nullable = true)\n |-- HEALTH_CARE_PROCEED: double (nullable = true)\n |-- DEBT_INTEREST_PROCEED: double (nullable = true)\n |-- BusinessType: string (nullable = true)\n |-- OriginatingLenderLocationID: string (nullable = true)\n |-- OriginatingLender: string (nullable = true)\n |-- OriginatingLenderCity: string (nullable = true)\n |-- OriginatingLenderState: string (nullable = true)\n |-- Gender: string (nullable = true)\n |-- Veteran: string (nullable = true)\n |-- NonProfit: string (nullable = true)\n\n"
     ]
    }
   ],
   "source": [
    "small_df_public_150.printSchema()"
   ]
  },
  {
   "cell_type": "code",
   "execution_count": 0,
   "metadata": {
    "application/vnd.databricks.v1+cell": {
     "cellMetadata": {
      "byteLimit": 2048000,
      "rowLimit": 10000
     },
     "inputWidgets": {},
     "nuid": "3c7fdbed-b552-4f51-bc1a-07f1562ba579",
     "showTitle": false,
     "title": ""
    }
   },
   "outputs": [
    {
     "output_type": "stream",
     "name": "stdout",
     "output_type": "stream",
     "text": [
      "+------------+---------------+------------+-------------+-----------+----------+----+---------------------+-------------+-------------------+----------------+------------+----------------------+-----------+-----------------+------------+----------+---+------------+---------+----+---------+-----------------+---------------+-------------------------+------------+----------------------+-------------------+---------------------+------------+---------------------------+-----------------+---------------------+----------------------+------+-------+---------+\n|BorrowerName|BorrowerAddress|BorrowerCity|BorrowerState|BorrowerZip|LoanStatus|Term|InitialApprovalAmount|FranchiseName|RuralUrbanIndicator|HubzoneIndicator|LMIIndicator|BusinessAgeDescription|ProjectCity|ProjectCountyName|ProjectState|ProjectZip| CD|JobsReported|NAICSCode|Race|Ethnicity|UTILITIES_PROCEED|PAYROLL_PROCEED|MORTGAGE_INTEREST_PROCEED|RENT_PROCEED|REFINANCE_EIDL_PROCEED|HEALTH_CARE_PROCEED|DEBT_INTEREST_PROCEED|BusinessType|OriginatingLenderLocationID|OriginatingLender|OriginatingLenderCity|OriginatingLenderState|Gender|Veteran|NonProfit|\n+------------+---------------+------------+-------------+-----------+----------+----+---------------------+-------------+-------------------+----------------+------------+----------------------+-----------+-----------------+------------+----------+---+------------+---------+----+---------+-----------------+---------------+-------------------------+------------+----------------------+-------------------+---------------------+------------+---------------------------+-----------------+---------------------+----------------------+------+-------+---------+\n|           0|              0|           0|            0|          2|         0|   0|                    0|        60557|                  0|               0|           0|                     0|          0|                4|           0|         0|  4|           0|      718|   0|        0|            39010|             84|                    59969|       56241|                 60928|              59055|                60495|          38|                          0|                0|                    0|                     0|     0|      0|    59553|\n+------------+---------------+------------+-------------+-----------+----------+----+---------------------+-------------+-------------------+----------------+------------+----------------------+-----------+-----------------+------------+----------+---+------------+---------+----+---------+-----------------+---------------+-------------------------+------------+----------------------+-------------------+---------------------+------------+---------------------------+-----------------+---------------------+----------------------+------+-------+---------+\n\n"
     ]
    }
   ],
   "source": [
    "small_df_public_150.select([count(when(isnan(c) | col(c).isNull(), c)).alias(c) for c in small_df_public_150.columns]).show()"
   ]
  },
  {
   "cell_type": "code",
   "execution_count": 0,
   "metadata": {
    "application/vnd.databricks.v1+cell": {
     "cellMetadata": {
      "byteLimit": 2048000,
      "rowLimit": 10000
     },
     "inputWidgets": {},
     "nuid": "96d0c52e-6e12-47b5-a585-7e20df7abf22",
     "showTitle": false,
     "title": ""
    }
   },
   "outputs": [
    {
     "output_type": "stream",
     "name": "stdout",
     "output_type": "stream",
     "text": [
      "+---------------------+------------+----+---------------------+-------------------+----------------+------------+----------------------+-----------+------------+---------------+------------+----------+---------+---------------------+-------------------------+----------------------+------+-------+\n|OriginatingLenderCity|BorrowerCity|Term|InitialApprovalAmount|RuralUrbanIndicator|HubzoneIndicator|LMIIndicator|BusinessAgeDescription|ProjectCity|JobsReported|PAYROLL_PROCEED|BusinessType|LoanStatus|NAICSCode|DEBT_INTEREST_PROCEED|MORTGAGE_INTEREST_PROCEED|REFINANCE_EIDL_PROCEED|Gender|Veteran|\n+---------------------+------------+----+---------------------+-------------------+----------------+------------+----------------------+-----------+------------+---------------+------------+----------+---------+---------------------+-------------------------+----------------------+------+-------+\n|                    0|           0|   0|                    0|                  0|               0|           0|                     0|          0|           0|             84|          38|         0|      718|                60495|                    59969|                 60928|     0|      0|\n+---------------------+------------+----+---------------------+-------------------+----------------+------------+----------------------+-----------+------------+---------------+------------+----------+---------+---------------------+-------------------------+----------------------+------+-------+\n\n"
     ]
    }
   ],
   "source": [
    "candidate_col =[ \"OriginatingLenderCity\", \n",
    "    \"BorrowerCity\",\n",
    "    \"Term\",\n",
    "    \"InitialApprovalAmount\",\n",
    "    \"RuralUrbanIndicator\",\n",
    "    \"HubzoneIndicator\",\n",
    "    \"LMIIndicator\",\n",
    "    \"BusinessAgeDescription\",\n",
    "    \"ProjectCity\",\n",
    "    \"JobsReported\",\n",
    "    \"PAYROLL_PROCEED\",\n",
    "    \"BusinessType\",\n",
    "    \"LoanStatus\",\n",
    "    \"NAICSCode\",\n",
    "    \"DEBT_INTEREST_PROCEED\",\n",
    "    \"MORTGAGE_INTEREST_PROCEED\",\n",
    "    \"REFINANCE_EIDL_PROCEED\",\n",
    "    \"Gender\", \n",
    "    \"Veteran\",\n",
    "]\n",
    "features_df = small_df_public_150.select(candidate_col)\n",
    "\n",
    "features_df.select([count(when(isnan(c) | col(c).isNull(), c)).alias(c) for c in features_df.columns]).show()"
   ]
  },
  {
   "cell_type": "code",
   "execution_count": 0,
   "metadata": {
    "application/vnd.databricks.v1+cell": {
     "cellMetadata": {
      "byteLimit": 2048000,
      "rowLimit": 10000
     },
     "inputWidgets": {},
     "nuid": "6d23102b-faec-4c0a-b1f9-7ab6c054b1a2",
     "showTitle": false,
     "title": ""
    }
   },
   "outputs": [
    {
     "output_type": "stream",
     "name": "stdout",
     "output_type": "stream",
     "text": [
      "root\n |-- OriginatingLenderCity: string (nullable = true)\n |-- BorrowerCity: string (nullable = true)\n |-- Term: string (nullable = true)\n |-- InitialApprovalAmount: double (nullable = true)\n |-- RuralUrbanIndicator: string (nullable = true)\n |-- HubzoneIndicator: string (nullable = true)\n |-- LMIIndicator: string (nullable = true)\n |-- BusinessAgeDescription: string (nullable = true)\n |-- ProjectCity: string (nullable = true)\n |-- JobsReported: string (nullable = true)\n |-- PAYROLL_PROCEED: double (nullable = true)\n |-- BusinessType: string (nullable = true)\n |-- LoanStatus: string (nullable = true)\n |-- NAICSCode: integer (nullable = true)\n |-- DEBT_INTEREST_PROCEED: double (nullable = true)\n |-- MORTGAGE_INTEREST_PROCEED: double (nullable = true)\n |-- REFINANCE_EIDL_PROCEED: double (nullable = true)\n |-- Gender: string (nullable = true)\n |-- Veteran: string (nullable = true)\n\n"
     ]
    },
    {
     "output_type": "execute_result",
     "data": {
      "text/plain": [
       "DataFrame[OriginatingLenderCity: string, BorrowerCity: string, Term: int, InitialApprovalAmount: double, RuralUrbanIndicator: string, HubzoneIndicator: string, LMIIndicator: string, BusinessAgeDescription: string, ProjectCity: string, JobsReported: int, PAYROLL_PROCEED: double, BusinessType: string, LoanStatus: string, NAICSCode: int, DEBT_INTEREST_PROCEED: double, MORTGAGE_INTEREST_PROCEED: double, REFINANCE_EIDL_PROCEED: double, Gender: string, Veteran: string]"
      ]
     },
     "execution_count": 16,
     "metadata": {},
     "output_type": "execute_result"
    }
   ],
   "source": [
    "features_df.printSchema()\n",
    "\n",
    "features_df = features_df.withColumn(\"Term\", features_df[\"Term\"].cast(IntegerType()))\n",
    "features_df = features_df.withColumn(\"InitialApprovalAmount\", features_df[\"InitialApprovalAmount\"].cast(\"double\"))\n",
    "features_df = features_df.withColumn(\"JobsReported\", features_df[\"JobsReported\"].cast(IntegerType()))\n",
    "features_df = features_df.withColumn(\"PAYROLL_PROCEED\", features_df[\"PAYROLL_PROCEED\"].cast(\"double\"))\n",
    "features_df = features_df.withColumn(\"DEBT_INTEREST_PROCEED\", features_df[\"DEBT_INTEREST_PROCEED\"].cast(\"double\"))\n",
    "features_df = features_df.withColumn(\"REFINANCE_EIDL_PROCEED\", features_df[\"REFINANCE_EIDL_PROCEED\"].cast(\"double\"))\n",
    "\n",
    "\n",
    "features_df.cache()\n",
    "\n"
   ]
  },
  {
   "cell_type": "code",
   "execution_count": 0,
   "metadata": {
    "application/vnd.databricks.v1+cell": {
     "cellMetadata": {
      "byteLimit": 2048000,
      "rowLimit": 10000
     },
     "inputWidgets": {},
     "nuid": "aae6778f-ef66-44b3-89f2-179b4bec785c",
     "showTitle": false,
     "title": ""
    }
   },
   "outputs": [
    {
     "output_type": "stream",
     "name": "stdout",
     "output_type": "stream",
     "text": [
      "root\n |-- OriginatingLenderCity: string (nullable = true)\n |-- BorrowerCity: string (nullable = true)\n |-- Term: integer (nullable = true)\n |-- InitialApprovalAmount: double (nullable = true)\n |-- RuralUrbanIndicator: string (nullable = true)\n |-- HubzoneIndicator: string (nullable = true)\n |-- LMIIndicator: string (nullable = true)\n |-- BusinessAgeDescription: string (nullable = true)\n |-- ProjectCity: string (nullable = true)\n |-- JobsReported: integer (nullable = true)\n |-- PAYROLL_PROCEED: double (nullable = true)\n |-- BusinessType: string (nullable = true)\n |-- LoanStatus: string (nullable = true)\n |-- NAICSCode: integer (nullable = true)\n |-- DEBT_INTEREST_PROCEED: double (nullable = true)\n |-- MORTGAGE_INTEREST_PROCEED: double (nullable = true)\n |-- REFINANCE_EIDL_PROCEED: double (nullable = true)\n |-- Gender: string (nullable = true)\n |-- Veteran: string (nullable = true)\n\n+----------------------+-----+\n|BusinessAgeDescription|count|\n+----------------------+-----+\n|  Existing or more ...|53119|\n|            Unanswered| 4167|\n|   Change of Ownership|   17|\n|  New Business or 2...| 4872|\n|  Startup, Loan Fun...|   18|\n+----------------------+-----+\n\n+---------+-----+\n|NAICSCode|count|\n+---------+-----+\n|   712110|   59|\n|   722514|   69|\n|   561910|   25|\n|   445291|   18|\n|   311710|   14|\n|   451212|    3|\n|   333921|    5|\n|   332710|  179|\n|   541611|  536|\n|   454110|   91|\n|   523130|   16|\n|   488510|  207|\n|   561920|   91|\n|   327213|    1|\n|   561622|   11|\n|   541713|   17|\n|   541850|   22|\n|   624229|   32|\n|   424940|    8|\n|   713930|   17|\n+---------+-----+\nonly showing top 20 rows\n\n"
     ]
    }
   ],
   "source": [
    "features_df.printSchema()\n",
    "\n",
    "features_df.groupBy(\"BusinessAgeDescription\").count().show()\n",
    "\n",
    "features_df.groupBy(\"NAICSCode\").count().show()"
   ]
  },
  {
   "cell_type": "code",
   "execution_count": 0,
   "metadata": {
    "application/vnd.databricks.v1+cell": {
     "cellMetadata": {
      "byteLimit": 2048000,
      "rowLimit": 10000
     },
     "inputWidgets": {},
     "nuid": "24451737-352a-4ef7-b639-ad683dc7e7fe",
     "showTitle": false,
     "title": ""
    }
   },
   "outputs": [
    {
     "output_type": "stream",
     "name": "stdout",
     "output_type": "stream",
     "text": [
      "+---------------+-----+\n|PAYROLL_PROCEED|count|\n+---------------+-----+\n|      213120.18|    1|\n|       223575.0|    2|\n|       222349.0|    1|\n|       214045.0|    1|\n|       209550.0|    1|\n|       204098.0|    1|\n|       198940.0|    1|\n|       193147.0|    1|\n|       191690.0|    2|\n|       168365.0|    1|\n|       164480.0|    1|\n|       154817.0|    2|\n|       153257.0|    1|\n|      775128.45|    1|\n|       378097.0|    1|\n|       300000.0|  120|\n|       217934.0|    1|\n|       216988.0|    1|\n|       170041.0|    1|\n|      604210.92|    1|\n+---------------+-----+\nonly showing top 20 rows\n\n"
     ]
    },
    {
     "output_type": "display_data",
     "data": {
      "text/html": [
       "<style scoped>\n",
       "  .table-result-container {\n",
       "    max-height: 300px;\n",
       "    overflow: auto;\n",
       "  }\n",
       "  table, th, td {\n",
       "    border: 1px solid black;\n",
       "    border-collapse: collapse;\n",
       "  }\n",
       "  th, td {\n",
       "    padding: 5px;\n",
       "  }\n",
       "  th {\n",
       "    text-align: left;\n",
       "  }\n",
       "</style><div class='table-result-container'><table class='table-result'><thead style='background-color: white'><tr><th>JobsReported</th></tr></thead><tbody><tr><td>148</td></tr><tr><td>392</td></tr><tr><td>31</td></tr><tr><td>85</td></tr><tr><td>251</td></tr><tr><td>137</td></tr><tr><td>65</td></tr><tr><td>53</td></tr><tr><td>133</td></tr><tr><td>78</td></tr><tr><td>322</td></tr><tr><td>362</td></tr><tr><td>155</td></tr><tr><td>108</td></tr><tr><td>34</td></tr><tr><td>193</td></tr><tr><td>101</td></tr><tr><td>115</td></tr><tr><td>126</td></tr><tr><td>81</td></tr><tr><td>28</td></tr><tr><td>210</td></tr><tr><td>183</td></tr><tr><td>497</td></tr><tr><td>300</td></tr><tr><td>76</td></tr><tr><td>26</td></tr><tr><td>27</td></tr><tr><td>384</td></tr><tr><td>44</td></tr><tr><td>192</td></tr><tr><td>159</td></tr><tr><td>103</td></tr><tr><td>460</td></tr><tr><td>236</td></tr><tr><td>329</td></tr><tr><td>12</td></tr><tr><td>350</td></tr><tr><td>223</td></tr><tr><td>91</td></tr><tr><td>285</td></tr><tr><td>22</td></tr><tr><td>128</td></tr><tr><td>330</td></tr><tr><td>230</td></tr><tr><td>319</td></tr><tr><td>122</td></tr><tr><td>493</td></tr><tr><td>93</td></tr><tr><td>233</td></tr><tr><td>190</td></tr><tr><td>225</td></tr><tr><td>232</td></tr><tr><td>157</td></tr><tr><td>360</td></tr><tr><td>111</td></tr><tr><td>224</td></tr><tr><td>47</td></tr><tr><td>140</td></tr><tr><td>416</td></tr><tr><td>177</td></tr><tr><td>152</td></tr><tr><td>132</td></tr><tr><td>185</td></tr><tr><td>305</td></tr><tr><td>146</td></tr><tr><td>259</td></tr><tr><td>1</td></tr><tr><td>206</td></tr><tr><td>52</td></tr><tr><td>212</td></tr><tr><td>182</td></tr><tr><td>13</td></tr><tr><td>280</td></tr><tr><td>348</td></tr><tr><td>218</td></tr><tr><td>16</td></tr><tr><td>6</td></tr><tr><td>86</td></tr><tr><td>168</td></tr><tr><td>205</td></tr><tr><td>3</td></tr><tr><td>142</td></tr><tr><td>178</td></tr><tr><td>20</td></tr><tr><td>40</td></tr><tr><td>500</td></tr><tr><td>169</td></tr><tr><td>479</td></tr><tr><td>139</td></tr><tr><td>359</td></tr><tr><td>283</td></tr><tr><td>340</td></tr><tr><td>295</td></tr><tr><td>94</td></tr><tr><td>250</td></tr><tr><td>402</td></tr><tr><td>57</td></tr><tr><td>54</td></tr><tr><td>120</td></tr><tr><td>96</td></tr><tr><td>235</td></tr><tr><td>48</td></tr><tr><td>266</td></tr><tr><td>5</td></tr><tr><td>268</td></tr><tr><td>163</td></tr><tr><td>258</td></tr><tr><td>279</td></tr><tr><td>19</td></tr><tr><td>397</td></tr><tr><td>92</td></tr><tr><td>419</td></tr><tr><td>299</td></tr><tr><td>257</td></tr><tr><td>227</td></tr><tr><td>64</td></tr><tr><td>117</td></tr><tr><td>41</td></tr><tr><td>154</td></tr><tr><td>347</td></tr><tr><td>15</td></tr><tr><td>43</td></tr><tr><td>112</td></tr><tr><td>269</td></tr><tr><td>165</td></tr><tr><td>179</td></tr><tr><td>189</td></tr><tr><td>37</td></tr><tr><td>61</td></tr><tr><td>127</td></tr><tr><td>486</td></tr><tr><td>88</td></tr><tr><td>318</td></tr><tr><td>107</td></tr><tr><td>263</td></tr><tr><td>374</td></tr><tr><td>9</td></tr><tr><td>17</td></tr><tr><td>231</td></tr><tr><td>324</td></tr><tr><td>72</td></tr><tr><td>286</td></tr><tr><td>175</td></tr><tr><td>381</td></tr><tr><td>35</td></tr><tr><td>310</td></tr><tr><td>485</td></tr><tr><td>196</td></tr><tr><td>217</td></tr><tr><td>326</td></tr><tr><td>229</td></tr><tr><td>278</td></tr><tr><td>173</td></tr><tr><td>220</td></tr><tr><td>114</td></tr><tr><td>494</td></tr><tr><td>301</td></tr><tr><td>4</td></tr><tr><td>55</td></tr><tr><td>59</td></tr><tr><td>8</td></tr><tr><td>100</td></tr><tr><td>450</td></tr><tr><td>495</td></tr><tr><td>161</td></tr><tr><td>23</td></tr><tr><td>39</td></tr><tr><td>380</td></tr><tr><td>49</td></tr><tr><td>176</td></tr><tr><td>7</td></tr><tr><td>162</td></tr><tr><td>130</td></tr><tr><td>244</td></tr><tr><td>446</td></tr><tr><td>136</td></tr><tr><td>84</td></tr><tr><td>247</td></tr><tr><td>87</td></tr><tr><td>439</td></tr><tr><td>171</td></tr><tr><td>343</td></tr><tr><td>273</td></tr><tr><td>51</td></tr><tr><td>277</td></tr><tr><td>194</td></tr><tr><td>391</td></tr><tr><td>129</td></tr><tr><td>69</td></tr><tr><td>166</td></tr><tr><td>467</td></tr><tr><td>97</td></tr><tr><td>400</td></tr><tr><td>264</td></tr><tr><td>312</td></tr><tr><td>63</td></tr><tr><td>10</td></tr><tr><td>102</td></tr><tr><td>77</td></tr><tr><td>361</td></tr><tr><td>50</td></tr><tr><td>267</td></tr><tr><td>293</td></tr><tr><td>45</td></tr><tr><td>38</td></tr><tr><td>320</td></tr><tr><td>82</td></tr><tr><td>181</td></tr><tr><td>249</td></tr><tr><td>288</td></tr><tr><td>167</td></tr><tr><td>394</td></tr><tr><td>80</td></tr><tr><td>240</td></tr><tr><td>289</td></tr><tr><td>25</td></tr><tr><td>73</td></tr><tr><td>245</td></tr><tr><td>113</td></tr><tr><td>237</td></tr><tr><td>24</td></tr><tr><td>160</td></tr><tr><td>70</td></tr><tr><td>408</td></tr><tr><td>62</td></tr><tr><td>121</td></tr><tr><td>125</td></tr><tr><td>351</td></tr><tr><td>156</td></tr><tr><td>219</td></tr><tr><td>143</td></tr><tr><td>95</td></tr><tr><td>482</td></tr><tr><td>29</td></tr><tr><td>226</td></tr><tr><td>390</td></tr><tr><td>21</td></tr><tr><td>323</td></tr><tr><td>352</td></tr><tr><td>98</td></tr><tr><td>256</td></tr><tr><td>195</td></tr><tr><td>287</td></tr><tr><td>490</td></tr><tr><td>32</td></tr><tr><td>90</td></tr><tr><td>60</td></tr><tr><td>371</td></tr><tr><td>75</td></tr><tr><td>203</td></tr><tr><td>265</td></tr><tr><td>151</td></tr><tr><td>141</td></tr><tr><td>414</td></tr><tr><td>334</td></tr><tr><td>200</td></tr><tr><td>145</td></tr><tr><td>56</td></tr><tr><td>109</td></tr><tr><td>228</td></tr><tr><td>213</td></tr><tr><td>426</td></tr><tr><td>170</td></tr><tr><td>105</td></tr><tr><td>298</td></tr><tr><td>58</td></tr><tr><td>188</td></tr><tr><td>11</td></tr><tr><td>33</td></tr><tr><td>421</td></tr><tr><td>150</td></tr><tr><td>83</td></tr><tr><td>110</td></tr><tr><td>369</td></tr><tr><td>68</td></tr><tr><td>71</td></tr><tr><td>106</td></tr><tr><td>260</td></tr><tr><td>116</td></tr><tr><td>147</td></tr><tr><td>14</td></tr><tr><td>198</td></tr><tr><td>349</td></tr><tr><td>344</td></tr><tr><td>123</td></tr><tr><td>379</td></tr><tr><td>158</td></tr><tr><td>242</td></tr><tr><td>199</td></tr><tr><td>135</td></tr><tr><td>248</td></tr><tr><td>499</td></tr><tr><td>42</td></tr><tr><td>466</td></tr><tr><td>119</td></tr><tr><td>2</td></tr><tr><td>79</td></tr><tr><td>201</td></tr><tr><td>276</td></tr><tr><td>131</td></tr><tr><td>149</td></tr><tr><td>365</td></tr><tr><td>294</td></tr><tr><td>118</td></tr><tr><td>124</td></tr><tr><td>30</td></tr><tr><td>99</td></tr><tr><td>184</td></tr><tr><td>66</td></tr><tr><td>46</td></tr><tr><td>282</td></tr><tr><td>67</td></tr><tr><td>275</td></tr><tr><td>174</td></tr><tr><td>399</td></tr><tr><td>144</td></tr><tr><td>153</td></tr><tr><td>420</td></tr><tr><td>18</td></tr><tr><td>74</td></tr><tr><td>138</td></tr><tr><td>180</td></tr><tr><td>104</td></tr><tr><td>468</td></tr><tr><td>134</td></tr><tr><td>36</td></tr><tr><td>187</td></tr><tr><td>89</td></tr><tr><td>422</td></tr><tr><td>401</td></tr><tr><td>496</td></tr><tr><td>463</td></tr><tr><td>243</td></tr><tr><td>481</td></tr><tr><td>296</td></tr><tr><td>472</td></tr><tr><td>375</td></tr><tr><td>211</td></tr><tr><td>368</td></tr><tr><td>271</td></tr><tr><td>253</td></tr><tr><td>222</td></tr><tr><td>372</td></tr><tr><td>367</td></tr><tr><td>246</td></tr><tr><td>444</td></tr><tr><td>325</td></tr><tr><td>297</td></tr><tr><td>470</td></tr><tr><td>432</td></tr><tr><td>306</td></tr><tr><td>292</td></tr><tr><td>491</td></tr><tr><td>191</td></tr><tr><td>430</td></tr><tr><td>309</td></tr><tr><td>455</td></tr><tr><td>262</td></tr><tr><td>358</td></tr><tr><td>207</td></tr><tr><td>202</td></tr><tr><td>423</td></tr><tr><td>498</td></tr><tr><td>456</td></tr><tr><td>445</td></tr><tr><td>241</td></tr><tr><td>238</td></tr><tr><td>453</td></tr><tr><td>443</td></tr><tr><td>331</td></tr><tr><td>234</td></tr><tr><td>389</td></tr><tr><td>239</td></tr><tr><td>216</td></tr><tr><td>364</td></tr><tr><td>396</td></tr><tr><td>480</td></tr><tr><td>411</td></tr><tr><td>492</td></tr><tr><td>469</td></tr><tr><td>457</td></tr><tr><td>376</td></tr><tr><td>478</td></tr><tr><td>304</td></tr><tr><td>370</td></tr><tr><td>204</td></tr><tr><td>413</td></tr><tr><td>317</td></tr><tr><td>373</td></tr><tr><td>342</td></tr><tr><td>454</td></tr><tr><td>270</td></tr><tr><td>281</td></tr><tr><td>313</td></tr><tr><td>186</td></tr><tr><td>311</td></tr><tr><td>215</td></tr><tr><td>252</td></tr><tr><td>483</td></tr><tr><td>208</td></tr><tr><td>471</td></tr><tr><td>451</td></tr><tr><td>255</td></tr><tr><td>385</td></tr><tr><td>412</td></tr><tr><td>332</td></tr><tr><td>336</td></tr><tr><td>388</td></tr><tr><td>417</td></tr><tr><td>209</td></tr><tr><td>355</td></tr><tr><td>386</td></tr><tr><td>435</td></tr><tr><td>274</td></tr><tr><td>442</td></tr><tr><td>440</td></tr><tr><td>308</td></tr><tr><td>164</td></tr><tr><td>429</td></tr><tr><td>415</td></tr><tr><td>447</td></tr><tr><td>484</td></tr><tr><td>366</td></tr><tr><td>489</td></tr><tr><td>316</td></tr><tr><td>461</td></tr><tr><td>197</td></tr><tr><td>398</td></tr><tr><td>290</td></tr><tr><td>449</td></tr><tr><td>314</td></tr><tr><td>434</td></tr><tr><td>465</td></tr><tr><td>428</td></tr><tr><td>448</td></tr><tr><td>459</td></tr><tr><td>418</td></tr><tr><td>356</td></tr><tr><td>214</td></tr><tr><td>338</td></tr><tr><td>335</td></tr><tr><td>345</td></tr><tr><td>221</td></tr><tr><td>433</td></tr><tr><td>272</td></tr><tr><td>378</td></tr><tr><td>487</td></tr><tr><td>303</td></tr><tr><td>354</td></tr><tr><td>302</td></tr><tr><td>410</td></tr><tr><td>172</td></tr><tr><td>475</td></tr><tr><td>315</td></tr><tr><td>393</td></tr><tr><td>436</td></tr><tr><td>353</td></tr><tr><td>363</td></tr><tr><td>377</td></tr><tr><td>339</td></tr><tr><td>327</td></tr><tr><td>254</td></tr><tr><td>458</td></tr><tr><td>409</td></tr><tr><td>333</td></tr><tr><td>476</td></tr><tr><td>346</td></tr><tr><td>291</td></tr><tr><td>328</td></tr><tr><td>425</td></tr><tr><td>462</td></tr><tr><td>437</td></tr><tr><td>441</td></tr><tr><td>403</td></tr><tr><td>261</td></tr><tr><td>477</td></tr><tr><td>341</td></tr><tr><td>424</td></tr><tr><td>284</td></tr><tr><td>405</td></tr><tr><td>407</td></tr><tr><td>321</td></tr><tr><td>473</td></tr><tr><td>431</td></tr><tr><td>452</td></tr><tr><td>383</td></tr><tr><td>438</td></tr><tr><td>488</td></tr><tr><td>357</td></tr><tr><td>474</td></tr><tr><td>427</td></tr><tr><td>382</td></tr></tbody></table></div>"
      ]
     },
     "metadata": {
      "application/vnd.databricks.v1+output": {
       "addedWidgets": {},
       "aggData": [],
       "aggError": "",
       "aggOverflow": false,
       "aggSchema": [],
       "aggSeriesLimitReached": false,
       "aggType": "",
       "arguments": {},
       "columnCustomDisplayInfos": {},
       "data": [
        [
         148
        ],
        [
         392
        ],
        [
         31
        ],
        [
         85
        ],
        [
         251
        ],
        [
         137
        ],
        [
         65
        ],
        [
         53
        ],
        [
         133
        ],
        [
         78
        ],
        [
         322
        ],
        [
         362
        ],
        [
         155
        ],
        [
         108
        ],
        [
         34
        ],
        [
         193
        ],
        [
         101
        ],
        [
         115
        ],
        [
         126
        ],
        [
         81
        ],
        [
         28
        ],
        [
         210
        ],
        [
         183
        ],
        [
         497
        ],
        [
         300
        ],
        [
         76
        ],
        [
         26
        ],
        [
         27
        ],
        [
         384
        ],
        [
         44
        ],
        [
         192
        ],
        [
         159
        ],
        [
         103
        ],
        [
         460
        ],
        [
         236
        ],
        [
         329
        ],
        [
         12
        ],
        [
         350
        ],
        [
         223
        ],
        [
         91
        ],
        [
         285
        ],
        [
         22
        ],
        [
         128
        ],
        [
         330
        ],
        [
         230
        ],
        [
         319
        ],
        [
         122
        ],
        [
         493
        ],
        [
         93
        ],
        [
         233
        ],
        [
         190
        ],
        [
         225
        ],
        [
         232
        ],
        [
         157
        ],
        [
         360
        ],
        [
         111
        ],
        [
         224
        ],
        [
         47
        ],
        [
         140
        ],
        [
         416
        ],
        [
         177
        ],
        [
         152
        ],
        [
         132
        ],
        [
         185
        ],
        [
         305
        ],
        [
         146
        ],
        [
         259
        ],
        [
         1
        ],
        [
         206
        ],
        [
         52
        ],
        [
         212
        ],
        [
         182
        ],
        [
         13
        ],
        [
         280
        ],
        [
         348
        ],
        [
         218
        ],
        [
         16
        ],
        [
         6
        ],
        [
         86
        ],
        [
         168
        ],
        [
         205
        ],
        [
         3
        ],
        [
         142
        ],
        [
         178
        ],
        [
         20
        ],
        [
         40
        ],
        [
         500
        ],
        [
         169
        ],
        [
         479
        ],
        [
         139
        ],
        [
         359
        ],
        [
         283
        ],
        [
         340
        ],
        [
         295
        ],
        [
         94
        ],
        [
         250
        ],
        [
         402
        ],
        [
         57
        ],
        [
         54
        ],
        [
         120
        ],
        [
         96
        ],
        [
         235
        ],
        [
         48
        ],
        [
         266
        ],
        [
         5
        ],
        [
         268
        ],
        [
         163
        ],
        [
         258
        ],
        [
         279
        ],
        [
         19
        ],
        [
         397
        ],
        [
         92
        ],
        [
         419
        ],
        [
         299
        ],
        [
         257
        ],
        [
         227
        ],
        [
         64
        ],
        [
         117
        ],
        [
         41
        ],
        [
         154
        ],
        [
         347
        ],
        [
         15
        ],
        [
         43
        ],
        [
         112
        ],
        [
         269
        ],
        [
         165
        ],
        [
         179
        ],
        [
         189
        ],
        [
         37
        ],
        [
         61
        ],
        [
         127
        ],
        [
         486
        ],
        [
         88
        ],
        [
         318
        ],
        [
         107
        ],
        [
         263
        ],
        [
         374
        ],
        [
         9
        ],
        [
         17
        ],
        [
         231
        ],
        [
         324
        ],
        [
         72
        ],
        [
         286
        ],
        [
         175
        ],
        [
         381
        ],
        [
         35
        ],
        [
         310
        ],
        [
         485
        ],
        [
         196
        ],
        [
         217
        ],
        [
         326
        ],
        [
         229
        ],
        [
         278
        ],
        [
         173
        ],
        [
         220
        ],
        [
         114
        ],
        [
         494
        ],
        [
         301
        ],
        [
         4
        ],
        [
         55
        ],
        [
         59
        ],
        [
         8
        ],
        [
         100
        ],
        [
         450
        ],
        [
         495
        ],
        [
         161
        ],
        [
         23
        ],
        [
         39
        ],
        [
         380
        ],
        [
         49
        ],
        [
         176
        ],
        [
         7
        ],
        [
         162
        ],
        [
         130
        ],
        [
         244
        ],
        [
         446
        ],
        [
         136
        ],
        [
         84
        ],
        [
         247
        ],
        [
         87
        ],
        [
         439
        ],
        [
         171
        ],
        [
         343
        ],
        [
         273
        ],
        [
         51
        ],
        [
         277
        ],
        [
         194
        ],
        [
         391
        ],
        [
         129
        ],
        [
         69
        ],
        [
         166
        ],
        [
         467
        ],
        [
         97
        ],
        [
         400
        ],
        [
         264
        ],
        [
         312
        ],
        [
         63
        ],
        [
         10
        ],
        [
         102
        ],
        [
         77
        ],
        [
         361
        ],
        [
         50
        ],
        [
         267
        ],
        [
         293
        ],
        [
         45
        ],
        [
         38
        ],
        [
         320
        ],
        [
         82
        ],
        [
         181
        ],
        [
         249
        ],
        [
         288
        ],
        [
         167
        ],
        [
         394
        ],
        [
         80
        ],
        [
         240
        ],
        [
         289
        ],
        [
         25
        ],
        [
         73
        ],
        [
         245
        ],
        [
         113
        ],
        [
         237
        ],
        [
         24
        ],
        [
         160
        ],
        [
         70
        ],
        [
         408
        ],
        [
         62
        ],
        [
         121
        ],
        [
         125
        ],
        [
         351
        ],
        [
         156
        ],
        [
         219
        ],
        [
         143
        ],
        [
         95
        ],
        [
         482
        ],
        [
         29
        ],
        [
         226
        ],
        [
         390
        ],
        [
         21
        ],
        [
         323
        ],
        [
         352
        ],
        [
         98
        ],
        [
         256
        ],
        [
         195
        ],
        [
         287
        ],
        [
         490
        ],
        [
         32
        ],
        [
         90
        ],
        [
         60
        ],
        [
         371
        ],
        [
         75
        ],
        [
         203
        ],
        [
         265
        ],
        [
         151
        ],
        [
         141
        ],
        [
         414
        ],
        [
         334
        ],
        [
         200
        ],
        [
         145
        ],
        [
         56
        ],
        [
         109
        ],
        [
         228
        ],
        [
         213
        ],
        [
         426
        ],
        [
         170
        ],
        [
         105
        ],
        [
         298
        ],
        [
         58
        ],
        [
         188
        ],
        [
         11
        ],
        [
         33
        ],
        [
         421
        ],
        [
         150
        ],
        [
         83
        ],
        [
         110
        ],
        [
         369
        ],
        [
         68
        ],
        [
         71
        ],
        [
         106
        ],
        [
         260
        ],
        [
         116
        ],
        [
         147
        ],
        [
         14
        ],
        [
         198
        ],
        [
         349
        ],
        [
         344
        ],
        [
         123
        ],
        [
         379
        ],
        [
         158
        ],
        [
         242
        ],
        [
         199
        ],
        [
         135
        ],
        [
         248
        ],
        [
         499
        ],
        [
         42
        ],
        [
         466
        ],
        [
         119
        ],
        [
         2
        ],
        [
         79
        ],
        [
         201
        ],
        [
         276
        ],
        [
         131
        ],
        [
         149
        ],
        [
         365
        ],
        [
         294
        ],
        [
         118
        ],
        [
         124
        ],
        [
         30
        ],
        [
         99
        ],
        [
         184
        ],
        [
         66
        ],
        [
         46
        ],
        [
         282
        ],
        [
         67
        ],
        [
         275
        ],
        [
         174
        ],
        [
         399
        ],
        [
         144
        ],
        [
         153
        ],
        [
         420
        ],
        [
         18
        ],
        [
         74
        ],
        [
         138
        ],
        [
         180
        ],
        [
         104
        ],
        [
         468
        ],
        [
         134
        ],
        [
         36
        ],
        [
         187
        ],
        [
         89
        ],
        [
         422
        ],
        [
         401
        ],
        [
         496
        ],
        [
         463
        ],
        [
         243
        ],
        [
         481
        ],
        [
         296
        ],
        [
         472
        ],
        [
         375
        ],
        [
         211
        ],
        [
         368
        ],
        [
         271
        ],
        [
         253
        ],
        [
         222
        ],
        [
         372
        ],
        [
         367
        ],
        [
         246
        ],
        [
         444
        ],
        [
         325
        ],
        [
         297
        ],
        [
         470
        ],
        [
         432
        ],
        [
         306
        ],
        [
         292
        ],
        [
         491
        ],
        [
         191
        ],
        [
         430
        ],
        [
         309
        ],
        [
         455
        ],
        [
         262
        ],
        [
         358
        ],
        [
         207
        ],
        [
         202
        ],
        [
         423
        ],
        [
         498
        ],
        [
         456
        ],
        [
         445
        ],
        [
         241
        ],
        [
         238
        ],
        [
         453
        ],
        [
         443
        ],
        [
         331
        ],
        [
         234
        ],
        [
         389
        ],
        [
         239
        ],
        [
         216
        ],
        [
         364
        ],
        [
         396
        ],
        [
         480
        ],
        [
         411
        ],
        [
         492
        ],
        [
         469
        ],
        [
         457
        ],
        [
         376
        ],
        [
         478
        ],
        [
         304
        ],
        [
         370
        ],
        [
         204
        ],
        [
         413
        ],
        [
         317
        ],
        [
         373
        ],
        [
         342
        ],
        [
         454
        ],
        [
         270
        ],
        [
         281
        ],
        [
         313
        ],
        [
         186
        ],
        [
         311
        ],
        [
         215
        ],
        [
         252
        ],
        [
         483
        ],
        [
         208
        ],
        [
         471
        ],
        [
         451
        ],
        [
         255
        ],
        [
         385
        ],
        [
         412
        ],
        [
         332
        ],
        [
         336
        ],
        [
         388
        ],
        [
         417
        ],
        [
         209
        ],
        [
         355
        ],
        [
         386
        ],
        [
         435
        ],
        [
         274
        ],
        [
         442
        ],
        [
         440
        ],
        [
         308
        ],
        [
         164
        ],
        [
         429
        ],
        [
         415
        ],
        [
         447
        ],
        [
         484
        ],
        [
         366
        ],
        [
         489
        ],
        [
         316
        ],
        [
         461
        ],
        [
         197
        ],
        [
         398
        ],
        [
         290
        ],
        [
         449
        ],
        [
         314
        ],
        [
         434
        ],
        [
         465
        ],
        [
         428
        ],
        [
         448
        ],
        [
         459
        ],
        [
         418
        ],
        [
         356
        ],
        [
         214
        ],
        [
         338
        ],
        [
         335
        ],
        [
         345
        ],
        [
         221
        ],
        [
         433
        ],
        [
         272
        ],
        [
         378
        ],
        [
         487
        ],
        [
         303
        ],
        [
         354
        ],
        [
         302
        ],
        [
         410
        ],
        [
         172
        ],
        [
         475
        ],
        [
         315
        ],
        [
         393
        ],
        [
         436
        ],
        [
         353
        ],
        [
         363
        ],
        [
         377
        ],
        [
         339
        ],
        [
         327
        ],
        [
         254
        ],
        [
         458
        ],
        [
         409
        ],
        [
         333
        ],
        [
         476
        ],
        [
         346
        ],
        [
         291
        ],
        [
         328
        ],
        [
         425
        ],
        [
         462
        ],
        [
         437
        ],
        [
         441
        ],
        [
         403
        ],
        [
         261
        ],
        [
         477
        ],
        [
         341
        ],
        [
         424
        ],
        [
         284
        ],
        [
         405
        ],
        [
         407
        ],
        [
         321
        ],
        [
         473
        ],
        [
         431
        ],
        [
         452
        ],
        [
         383
        ],
        [
         438
        ],
        [
         488
        ],
        [
         357
        ],
        [
         474
        ],
        [
         427
        ],
        [
         382
        ]
       ],
       "datasetInfos": [],
       "dbfsResultPath": null,
       "isJsonSchema": true,
       "metadata": {},
       "overflow": false,
       "plotOptions": {
        "customPlotOptions": {},
        "displayType": "table",
        "pivotAggregation": null,
        "pivotColumns": null,
        "xColumns": null,
        "yColumns": null
       },
       "removedWidgets": [],
       "schema": [
        {
         "metadata": "{}",
         "name": "JobsReported",
         "type": "\"integer\""
        }
       ],
       "type": "table"
      }
     },
     "output_type": "display_data"
    },
    {
     "output_type": "stream",
     "name": "stdout",
     "output_type": "stream",
     "text": [
      "+------------+-----+\n|JobsReported|count|\n+------------+-----+\n|         148|   26|\n|         392|    8|\n|          31|  718|\n|          85|  168|\n|         251|   11|\n|         137|   40|\n|          65|  296|\n|          53|  272|\n|         133|   37|\n|          78|  140|\n|         322|    4|\n|         362|    4|\n|         155|   36|\n|         108|   61|\n|          34|  664|\n|         193|   21|\n|         101|   77|\n|         115|   74|\n|         126|   39|\n|          81|  123|\n+------------+-----+\nonly showing top 20 rows\n\nCorrelation between JobsReported and PAYROLL_PROCEED: 0.7176804835115626\nSum of Payroll Proceeds: 32085428682.91999\nSum of Jobs Created: 3117764\nRatio of average pay 10291.16658057505\n"
     ]
    }
   ],
   "source": [
    "features_df.groupBy(\"PAYROLL_PROCEED\").count().show()\n",
    "display(features_df.select(\"JobsReported\").distinct())\n",
    "features_df.groupBy(\"JobsReported\").count().show()\n",
    "\n",
    "# Calculate correlation between 'JobsReported' and 'PAYROLL_PROCEED'\n",
    "correlation = features_df.corr(\"JobsReported\", \"PAYROLL_PROCEED\")\n",
    "\n",
    "# Print the correlation\n",
    "print(\"Correlation between JobsReported and PAYROLL_PROCEED:\", correlation)\n",
    "\n",
    "# Calculate the sum of 'payroll_proceed' and 'JobsReported' columns\n",
    "sum_payroll_proceed = features_df.select(spark_sum(\"PAYROLL_PROCEED\")).collect()[0][0]\n",
    "sum_jobs_reported = features_df.select(spark_sum(\"JobsReported\")).collect()[0][0]\n",
    "\n",
    "# Calculate the ratio of sum(payroll_proceed) to sum(JobsReported)\n",
    "pay_ratio = sum_payroll_proceed / sum_jobs_reported\n",
    "\n",
    "# Print the result\n",
    "print(\"Sum of Payroll Proceeds:\", sum_payroll_proceed)\n",
    "print(\"Sum of Jobs Created:\", sum_jobs_reported)\n",
    "print(\"Ratio of average pay\", pay_ratio)\n"
   ]
  },
  {
   "cell_type": "code",
   "execution_count": 0,
   "metadata": {
    "application/vnd.databricks.v1+cell": {
     "cellMetadata": {
      "byteLimit": 2048000,
      "rowLimit": 10000
     },
     "inputWidgets": {},
     "nuid": "01b27fdb-e65c-46b6-9d0d-687dca5e6d8f",
     "showTitle": false,
     "title": ""
    }
   },
   "outputs": [
    {
     "output_type": "stream",
     "name": "stdout",
     "output_type": "stream",
     "text": [
      "+---------------------+------------+----+---------------------+-------------------+----------------+------------+----------------------+-----------+------------+---------------+------------+----------+---------+---------------------+-------------------------+----------------------+------+-------+\n|OriginatingLenderCity|BorrowerCity|Term|InitialApprovalAmount|RuralUrbanIndicator|HubzoneIndicator|LMIIndicator|BusinessAgeDescription|ProjectCity|JobsReported|PAYROLL_PROCEED|BusinessType|LoanStatus|NAICSCode|DEBT_INTEREST_PROCEED|MORTGAGE_INTEREST_PROCEED|REFINANCE_EIDL_PROCEED|Gender|Veteran|\n+---------------------+------------+----+---------------------+-------------------+----------------+------------+----------------------+-----------+------------+---------------+------------+----------+---------+---------------------+-------------------------+----------------------+------+-------+\n|                    0|           0|   0|                    0|                  0|               0|           0|                     0|          0|           0|              0|          38|         0|      718|                60495|                    59969|                 60928|     0|      0|\n+---------------------+------------+----+---------------------+-------------------+----------------+------------+----------------------+-----------+------------+---------------+------------+----------+---------+---------------------+-------------------------+----------------------+------+-------+\n\n"
     ]
    }
   ],
   "source": [
    "# Replace null values in payroll_proceed with JobsReported * pay_ratio\n",
    "features_df = features_df.withColumn(\"PAYROLL_PROCEED\", when(col(\"PAYROLL_PROCEED\").isNull(), col(\"JobsReported\") * pay_ratio).otherwise(col(\"PAYROLL_PROCEED\")))\n",
    "\n",
    "# Show DataFrame\n",
    "features_df.cache()\n",
    "features_df.select([count(when(isnan(c) | col(c).isNull(), c)).alias(c) for c in features_df.columns]).show()"
   ]
  },
  {
   "cell_type": "code",
   "execution_count": 0,
   "metadata": {
    "application/vnd.databricks.v1+cell": {
     "cellMetadata": {
      "byteLimit": 2048000,
      "rowLimit": 10000
     },
     "inputWidgets": {},
     "nuid": "2e8d48b7-e7ee-4308-943c-658af51dd174",
     "showTitle": false,
     "title": ""
    }
   },
   "outputs": [
    {
     "output_type": "display_data",
     "data": {
      "text/html": [
       "<style scoped>\n",
       "  .table-result-container {\n",
       "    max-height: 300px;\n",
       "    overflow: auto;\n",
       "  }\n",
       "  table, th, td {\n",
       "    border: 1px solid black;\n",
       "    border-collapse: collapse;\n",
       "  }\n",
       "  th, td {\n",
       "    padding: 5px;\n",
       "  }\n",
       "  th {\n",
       "    text-align: left;\n",
       "  }\n",
       "</style><div class='table-result-container'><table class='table-result'><thead style='background-color: white'><tr><th>BusinessType</th></tr></thead><tbody><tr><td>501(c)6 – Non Profit Membership</td></tr><tr><td>Professional Association</td></tr><tr><td>null</td></tr><tr><td>Self-Employed Individuals</td></tr><tr><td>Limited  Liability Company(LLC)</td></tr><tr><td>Sole Proprietorship</td></tr><tr><td>Joint Venture</td></tr><tr><td>Partnership</td></tr><tr><td>Non-Profit Organization</td></tr><tr><td>Cooperative</td></tr><tr><td>Employee Stock Ownership Plan(ESOP)</td></tr><tr><td>Trust</td></tr><tr><td>Corporation</td></tr><tr><td>501(c)3 – Non Profit</td></tr><tr><td>Limited Liability Partnership</td></tr><tr><td>Subchapter S Corporation</td></tr><tr><td>Independent Contractors</td></tr><tr><td>Single Member LLC</td></tr><tr><td>Non-Profit Childcare Center</td></tr><tr><td>501(c)19 – Non Profit Veterans</td></tr><tr><td>Housing Co-op</td></tr><tr><td>Tribal Concerns</td></tr><tr><td>Tenant in Common</td></tr></tbody></table></div>"
      ]
     },
     "metadata": {
      "application/vnd.databricks.v1+output": {
       "addedWidgets": {},
       "aggData": [],
       "aggError": "",
       "aggOverflow": false,
       "aggSchema": [],
       "aggSeriesLimitReached": false,
       "aggType": "",
       "arguments": {},
       "columnCustomDisplayInfos": {},
       "data": [
        [
         "501(c)6 – Non Profit Membership"
        ],
        [
         "Professional Association"
        ],
        [
         null
        ],
        [
         "Self-Employed Individuals"
        ],
        [
         "Limited  Liability Company(LLC)"
        ],
        [
         "Sole Proprietorship"
        ],
        [
         "Joint Venture"
        ],
        [
         "Partnership"
        ],
        [
         "Non-Profit Organization"
        ],
        [
         "Cooperative"
        ],
        [
         "Employee Stock Ownership Plan(ESOP)"
        ],
        [
         "Trust"
        ],
        [
         "Corporation"
        ],
        [
         "501(c)3 – Non Profit"
        ],
        [
         "Limited Liability Partnership"
        ],
        [
         "Subchapter S Corporation"
        ],
        [
         "Independent Contractors"
        ],
        [
         "Single Member LLC"
        ],
        [
         "Non-Profit Childcare Center"
        ],
        [
         "501(c)19 – Non Profit Veterans"
        ],
        [
         "Housing Co-op"
        ],
        [
         "Tribal Concerns"
        ],
        [
         "Tenant in Common"
        ]
       ],
       "datasetInfos": [],
       "dbfsResultPath": null,
       "isJsonSchema": true,
       "metadata": {},
       "overflow": false,
       "plotOptions": {
        "customPlotOptions": {},
        "displayType": "table",
        "pivotAggregation": null,
        "pivotColumns": null,
        "xColumns": null,
        "yColumns": null
       },
       "removedWidgets": [],
       "schema": [
        {
         "metadata": "{}",
         "name": "BusinessType",
         "type": "\"string\""
        }
       ],
       "type": "table"
      }
     },
     "output_type": "display_data"
    },
    {
     "output_type": "stream",
     "name": "stdout",
     "output_type": "stream",
     "text": [
      "+--------------------+-----+\n|        BusinessType|count|\n+--------------------+-----+\n|501(c)6 – Non Pro...|   38|\n|Professional Asso...|  329|\n|                NULL|   38|\n|Self-Employed Ind...|  260|\n|Limited  Liabilit...|20946|\n| Sole Proprietorship| 1554|\n|       Joint Venture|   14|\n|         Partnership| 1087|\n|Non-Profit Organi...| 2462|\n|         Cooperative|  126|\n|Employee Stock Ow...|   30|\n|               Trust|   20|\n|         Corporation|24984|\n|501(c)3 – Non Profit|  108|\n|Limited Liability...|  756|\n|Subchapter S Corp...| 9337|\n|Independent Contr...|   18|\n|   Single Member LLC|   38|\n|Non-Profit Childc...|   31|\n|501(c)19 – Non Pr...|    1|\n|       Housing Co-op|   12|\n|     Tribal Concerns|    3|\n|    Tenant in Common|    1|\n+--------------------+-----+\n\n"
     ]
    }
   ],
   "source": [
    "display(features_df.select(\"BusinessType\").distinct())\n",
    "features_df.groupBy(\"BusinessType\").count().show(23)"
   ]
  },
  {
   "cell_type": "code",
   "execution_count": 0,
   "metadata": {
    "application/vnd.databricks.v1+cell": {
     "cellMetadata": {
      "byteLimit": 2048000,
      "rowLimit": 10000
     },
     "inputWidgets": {},
     "nuid": "26682675-f1f7-4b9c-9f1e-89a40174a14c",
     "showTitle": false,
     "title": ""
    }
   },
   "outputs": [
    {
     "output_type": "stream",
     "name": "stdout",
     "output_type": "stream",
     "text": [
      "+--------------------+-----+\n|        BusinessType|count|\n+--------------------+-----+\n|501(c)6 – Non Pro...|   38|\n|Professional Asso...|  329|\n|Self-Employed Ind...|  260|\n|Limited  Liabilit...|20946|\n| Sole Proprietorship| 1554|\n|       Joint Venture|   14|\n|         Partnership| 1087|\n|Non-Profit Organi...| 2462|\n|         Cooperative|  126|\n|Employee Stock Ow...|   30|\n|               Trust|   20|\n|              Others|   38|\n|         Corporation|24984|\n|501(c)3 – Non Profit|  108|\n|Limited Liability...|  756|\n|Subchapter S Corp...| 9337|\n|Independent Contr...|   18|\n|   Single Member LLC|   38|\n|Non-Profit Childc...|   31|\n|501(c)19 – Non Pr...|    1|\n|       Housing Co-op|   12|\n|     Tribal Concerns|    3|\n|    Tenant in Common|    1|\n+--------------------+-----+\n\n"
     ]
    }
   ],
   "source": [
    "features_df = features_df.withColumn(\"BusinessType\", when(col(\"BusinessType\").isNull(), \"Others\").otherwise(col(\"BusinessType\")))\n",
    "features_df.groupBy(\"BusinessType\").count().show(23)"
   ]
  },
  {
   "cell_type": "code",
   "execution_count": 0,
   "metadata": {
    "application/vnd.databricks.v1+cell": {
     "cellMetadata": {
      "byteLimit": 2048000,
      "rowLimit": 10000
     },
     "inputWidgets": {},
     "nuid": "d4f5bfbb-6160-4bf0-b847-1bdea072f7b7",
     "showTitle": false,
     "title": ""
    }
   },
   "outputs": [
    {
     "output_type": "display_data",
     "data": {
      "text/html": [
       "<style scoped>\n",
       "  .table-result-container {\n",
       "    max-height: 300px;\n",
       "    overflow: auto;\n",
       "  }\n",
       "  table, th, td {\n",
       "    border: 1px solid black;\n",
       "    border-collapse: collapse;\n",
       "  }\n",
       "  th, td {\n",
       "    padding: 5px;\n",
       "  }\n",
       "  th {\n",
       "    text-align: left;\n",
       "  }\n",
       "</style><div class='table-result-container'><table class='table-result'><thead style='background-color: white'><tr><th>NAICSCode</th></tr></thead><tbody><tr><td>712110</td></tr><tr><td>722514</td></tr><tr><td>561910</td></tr><tr><td>445291</td></tr><tr><td>311710</td></tr><tr><td>451212</td></tr><tr><td>333921</td></tr><tr><td>332710</td></tr><tr><td>541611</td></tr><tr><td>454110</td></tr><tr><td>523130</td></tr><tr><td>488510</td></tr><tr><td>561920</td></tr><tr><td>327213</td></tr><tr><td>561622</td></tr><tr><td>541713</td></tr><tr><td>541850</td></tr><tr><td>624229</td></tr><tr><td>424940</td></tr><tr><td>713930</td></tr><tr><td>331491</td></tr><tr><td>332313</td></tr><tr><td>424950</td></tr><tr><td>512290</td></tr><tr><td>453210</td></tr><tr><td>562920</td></tr><tr><td>541620</td></tr><tr><td>444220</td></tr><tr><td>517919</td></tr><tr><td>722211</td></tr><tr><td>813930</td></tr><tr><td>314120</td></tr><tr><td>336991</td></tr><tr><td>238170</td></tr><tr><td>524114</td></tr><tr><td>334511</td></tr><tr><td>485113</td></tr><tr><td>484121</td></tr><tr><td>423510</td></tr><tr><td>562998</td></tr><tr><td>325611</td></tr><tr><td>448150</td></tr><tr><td>811420</td></tr><tr><td>334417</td></tr><tr><td>811191</td></tr><tr><td>487210</td></tr><tr><td>522390</td></tr><tr><td>238120</td></tr><tr><td>531390</td></tr><tr><td>423620</td></tr><tr><td>334510</td></tr><tr><td>481111</td></tr><tr><td>337920</td></tr><tr><td>423330</td></tr><tr><td>445292</td></tr><tr><td>812320</td></tr><tr><td>811198</td></tr><tr><td>335122</td></tr><tr><td>333923</td></tr><tr><td>334514</td></tr><tr><td>517212</td></tr><tr><td>238210</td></tr><tr><td>221310</td></tr><tr><td>333991</td></tr><tr><td>424930</td></tr><tr><td>922150</td></tr><tr><td>332813</td></tr><tr><td>111998</td></tr><tr><td>238910</td></tr><tr><td>321912</td></tr><tr><td>332321</td></tr><tr><td>621492</td></tr><tr><td>721191</td></tr><tr><td>522298</td></tr><tr><td>441221</td></tr><tr><td>523920</td></tr><tr><td>321999</td></tr><tr><td>446120</td></tr><tr><td>112990</td></tr><tr><td>238140</td></tr><tr><td>813110</td></tr><tr><td>423110</td></tr><tr><td>541614</td></tr><tr><td>541910</td></tr><tr><td>311812</td></tr><tr><td>424810</td></tr><tr><td>485510</td></tr><tr><td>333314</td></tr><tr><td>621310</td></tr><tr><td>442210</td></tr><tr><td>524113</td></tr><tr><td>424320</td></tr><tr><td>221111</td></tr><tr><td>811412</td></tr><tr><td>611691</td></tr><tr><td>524298</td></tr><tr><td>333414</td></tr><tr><td>481211</td></tr><tr><td>481219</td></tr><tr><td>811111</td></tr><tr><td>212399</td></tr><tr><td>221117</td></tr><tr><td>484110</td></tr><tr><td>517911</td></tr><tr><td>323115</td></tr><tr><td>424590</td></tr><tr><td>517311</td></tr><tr><td>423920</td></tr><tr><td>453110</td></tr><tr><td>811113</td></tr><tr><td>112519</td></tr><tr><td>444130</td></tr><tr><td>339910</td></tr><tr><td>711219</td></tr><tr><td>339920</td></tr><tr><td>522291</td></tr><tr><td>321911</td></tr><tr><td>488210</td></tr><tr><td>454113</td></tr><tr><td>339930</td></tr><tr><td>336320</td></tr><tr><td>623311</td></tr><tr><td>332991</td></tr><tr><td>493130</td></tr><tr><td>453920</td></tr><tr><td>321991</td></tr><tr><td>812310</td></tr><tr><td>441120</td></tr><tr><td>333613</td></tr><tr><td>332994</td></tr><tr><td>623990</td></tr><tr><td>523120</td></tr><tr><td>423430</td></tr><tr><td>339113</td></tr><tr><td>811219</td></tr><tr><td>523999</td></tr><tr><td>424410</td></tr><tr><td>512120</td></tr><tr><td>314999</td></tr><tr><td>445299</td></tr><tr><td>512250</td></tr><tr><td>424330</td></tr><tr><td>332439</td></tr><tr><td>111333</td></tr><tr><td>511199</td></tr><tr><td>332323</td></tr><tr><td>621493</td></tr><tr><td>335314</td></tr><tr><td>333515</td></tr><tr><td>441228</td></tr><tr><td>445210</td></tr><tr><td>331221</td></tr><tr><td>325413</td></tr><tr><td>112511</td></tr><tr><td>493110</td></tr><tr><td>624190</td></tr><tr><td>442299</td></tr><tr><td>334419</td></tr><tr><td>448310</td></tr><tr><td>315210</td></tr><tr><td>327215</td></tr><tr><td>333241</td></tr><tr><td>452111</td></tr><tr><td>null</td></tr><tr><td>424490</td></tr><tr><td>541340</td></tr><tr><td>336211</td></tr><tr><td>488410</td></tr><tr><td>488190</td></tr><tr><td>621498</td></tr><tr><td>313110</td></tr><tr><td>312111</td></tr><tr><td>531190</td></tr><tr><td>624110</td></tr><tr><td>813311</td></tr><tr><td>722320</td></tr><tr><td>111219</td></tr><tr><td>541519</td></tr><tr><td>423720</td></tr><tr><td>336310</td></tr><tr><td>487110</td></tr><tr><td>114119</td></tr><tr><td>311221</td></tr><tr><td>339992</td></tr><tr><td>334310</td></tr><tr><td>541820</td></tr><tr><td>541420</td></tr><tr><td>325412</td></tr><tr><td>523110</td></tr><tr><td>212311</td></tr><tr><td>453991</td></tr><tr><td>611620</td></tr><tr><td>323117</td></tr><tr><td>336612</td></tr><tr><td>813312</td></tr><tr><td>926130</td></tr><tr><td>624120</td></tr><tr><td>515120</td></tr><tr><td>445310</td></tr><tr><td>212321</td></tr><tr><td>321918</td></tr><tr><td>339114</td></tr><tr><td>721199</td></tr><tr><td>551114</td></tr><tr><td>532111</td></tr><tr><td>424130</td></tr><tr><td>425110</td></tr><tr><td>541870</td></tr><tr><td>448130</td></tr><tr><td>493120</td></tr><tr><td>311612</td></tr><tr><td>621112</td></tr><tr><td>621391</td></tr><tr><td>924120</td></tr><tr><td>812191</td></tr><tr><td>711320</td></tr><tr><td>115116</td></tr><tr><td>311813</td></tr><tr><td>923130</td></tr><tr><td>113110</td></tr><tr><td>336120</td></tr><tr><td>311421</td></tr><tr><td>111421</td></tr><tr><td>561422</td></tr><tr><td>611630</td></tr><tr><td>525110</td></tr><tr><td>711211</td></tr><tr><td>921190</td></tr><tr><td>423120</td></tr><tr><td>423440</td></tr><tr><td>423940</td></tr><tr><td>332999</td></tr><tr><td>621111</td></tr><tr><td>621610</td></tr><tr><td>812990</td></tr><tr><td>561311</td></tr><tr><td>423490</td></tr><tr><td>213112</td></tr><tr><td>333120</td></tr><tr><td>711310</td></tr><tr><td>315990</td></tr><tr><td>562910</td></tr><tr><td>561440</td></tr><tr><td>112310</td></tr><tr><td>541370</td></tr><tr><td>446110</td></tr><tr><td>238330</td></tr><tr><td>541860</td></tr><tr><td>334118</td></tr><tr><td>722410</td></tr><tr><td>561499</td></tr><tr><td>524210</td></tr><tr><td>238390</td></tr><tr><td>812910</td></tr><tr><td>333514</td></tr><tr><td>327211</td></tr><tr><td>722513</td></tr><tr><td>423690</td></tr><tr><td>523991</td></tr><tr><td>511210</td></tr><tr><td>721310</td></tr><tr><td>337124</td></tr><tr><td>335991</td></tr><tr><td>525120</td></tr><tr><td>624310</td></tr><tr><td>327991</td></tr><tr><td>525990</td></tr><tr><td>722511</td></tr><tr><td>334516</td></tr><tr><td>337121</td></tr><tr><td>713920</td></tr><tr><td>448210</td></tr><tr><td>541430</td></tr><tr><td>541330</td></tr><tr><td>921130</td></tr><tr><td>336510</td></tr><tr><td>452210</td></tr><tr><td>236116</td></tr><tr><td>623210</td></tr><tr><td>532281</td></tr><tr><td>423310</td></tr><tr><td>111120</td></tr><tr><td>238160</td></tr><tr><td>448120</td></tr><tr><td>522292</td></tr><tr><td>423610</td></tr><tr><td>713120</td></tr><tr><td>813910</td></tr><tr><td>811211</td></tr><tr><td>519130</td></tr><tr><td>722330</td></tr><tr><td>522293</td></tr><tr><td>335110</td></tr><tr><td>624410</td></tr><tr><td>238310</td></tr><tr><td>561520</td></tr><tr><td>721120</td></tr><tr><td>814110</td></tr><tr><td>331318</td></tr><tr><td>511130</td></tr><tr><td>541715</td></tr><tr><td>811192</td></tr><tr><td>213111</td></tr><tr><td>332911</td></tr><tr><td>713910</td></tr><tr><td>115112</td></tr><tr><td>488320</td></tr><tr><td>111335</td></tr><tr><td>236115</td></tr><tr><td>423320</td></tr><tr><td>813219</td></tr><tr><td>112910</td></tr><tr><td>336611</td></tr><tr><td>713950</td></tr><tr><td>115113</td></tr><tr><td>811213</td></tr><tr><td>325320</td></tr><tr><td>238220</td></tr><tr><td>531320</td></tr><tr><td>711510</td></tr><tr><td>721214</td></tr><tr><td>112111</td></tr><tr><td>561410</td></tr><tr><td>511120</td></tr><tr><td>221114</td></tr><tr><td>423910</td></tr><tr><td>423210</td></tr><tr><td>237310</td></tr><tr><td>621340</td></tr><tr><td>541310</td></tr><tr><td>336212</td></tr><tr><td>561421</td></tr><tr><td>531110</td></tr><tr><td>332322</td></tr><tr><td>485410</td></tr><tr><td>519120</td></tr><tr><td>811411</td></tr><tr><td>327331</td></tr><tr><td>424690</td></tr><tr><td>115114</td></tr><tr><td>611310</td></tr><tr><td>333131</td></tr><tr><td>332119</td></tr><tr><td>115210</td></tr><tr><td>424460</td></tr><tr><td>316998</td></tr><tr><td>236220</td></tr><tr><td>541830</td></tr><tr><td>522310</td></tr><tr><td>236117</td></tr><tr><td>511110</td></tr><tr><td>336214</td></tr><tr><td>115115</td></tr><tr><td>326199</td></tr><tr><td>611710</td></tr><tr><td>541930</td></tr><tr><td>325193</td></tr><tr><td>522110</td></tr><tr><td>424720</td></tr><tr><td>311520</td></tr><tr><td>813920</td></tr><tr><td>492210</td></tr><tr><td>321214</td></tr><tr><td>623220</td></tr><tr><td>211120</td></tr><tr><td>532411</td></tr><tr><td>442110</td></tr><tr><td>312120</td></tr><tr><td>812210</td></tr><tr><td>812930</td></tr><tr><td>921110</td></tr><tr><td>113310</td></tr><tr><td>488999</td></tr><tr><td>722515</td></tr><tr><td>453220</td></tr><tr><td>531130</td></tr><tr><td>711190</td></tr><tr><td>323111</td></tr><tr><td>237990</td></tr><tr><td>611430</td></tr><tr><td>311411</td></tr><tr><td>624230</td></tr><tr><td>326220</td></tr><tr><td>423420</td></tr><tr><td>337125</td></tr><tr><td>311611</td></tr><tr><td>333242</td></tr><tr><td>111110</td></tr><tr><td>441320</td></tr><tr><td>325620</td></tr><tr><td>311824</td></tr><tr><td>115111</td></tr><tr><td>623110</td></tr><tr><td>452319</td></tr><tr><td>322230</td></tr><tr><td>448110</td></tr><tr><td>488111</td></tr><tr><td>532412</td></tr><tr><td>561990</td></tr><tr><td>311919</td></tr><tr><td>312130</td></tr><tr><td>312140</td></tr><tr><td>337212</td></tr><tr><td>922120</td></tr><tr><td>331523</td></tr><tr><td>532284</td></tr><tr><td>111920</td></tr><tr><td>322212</td></tr><tr><td>813990</td></tr><tr><td>311340</td></tr><tr><td>541921</td></tr><tr><td>334519</td></tr><tr><td>922160</td></tr><tr><td>493190</td></tr><tr><td>519190</td></tr><tr><td>515111</td></tr><tr><td>321920</td></tr><tr><td>325991</td></tr><tr><td>712130</td></tr><tr><td>333611</td></tr><tr><td>541490</td></tr><tr><td>621512</td></tr><tr><td>522220</td></tr><tr><td>561740</td></tr><tr><td>333992</td></tr><tr><td>561720</td></tr><tr><td>561510</td></tr><tr><td>332312</td></tr><tr><td>423830</td></tr><tr><td>325120</td></tr><tr><td>524126</td></tr><tr><td>333413</td></tr><tr><td>423860</td></tr><tr><td>512230</td></tr><tr><td>511140</td></tr><tr><td>812111</td></tr><tr><td>531312</td></tr><tr><td>423410</td></tr><tr><td>441210</td></tr><tr><td>423460</td></tr><tr><td>623312</td></tr><tr><td>811490</td></tr><tr><td>112920</td></tr><tr><td>441110</td></tr><tr><td>326130</td></tr><tr><td>611512</td></tr><tr><td>561611</td></tr><tr><td>311352</td></tr><tr><td>622110</td></tr><tr><td>423740</td></tr><tr><td>313210</td></tr><tr><td>532289</td></tr><tr><td>722110</td></tr><tr><td>332992</td></tr><tr><td>221112</td></tr><tr><td>423930</td></tr><tr><td>315240</td></tr><tr><td>315280</td></tr><tr><td>999990</td></tr><tr><td>532210</td></tr><tr><td>324191</td></tr><tr><td>812332</td></tr><tr><td>561621</td></tr><tr><td>325110</td></tr><tr><td>332410</td></tr><tr><td>485320</td></tr><tr><td>541320</td></tr><tr><td>336112</td></tr><tr><td>541191</td></tr><tr><td>237120</td></tr><tr><td>453930</td></tr><tr><td>812113</td></tr><tr><td>211130</td></tr><tr><td>423520</td></tr><tr><td>334413</td></tr><tr><td>443141</td></tr><tr><td>561439</td></tr><tr><td>337214</td></tr><tr><td>325992</td></tr><tr><td>811310</td></tr><tr><td>325199</td></tr><tr><td>448140</td></tr><tr><td>333912</td></tr><tr><td>721110</td></tr><tr><td>484210</td></tr><tr><td>711410</td></tr><tr><td>532490</td></tr><tr><td>325311</td></tr><tr><td>541690</td></tr><tr><td>221320</td></tr><tr><td>453998</td></tr><tr><td>713940</td></tr><tr><td>333995</td></tr><tr><td>561450</td></tr><tr><td>423850</td></tr><tr><td>624221</td></tr><tr><td>423990</td></tr><tr><td>813319</td></tr><tr><td>311811</td></tr><tr><td>523930</td></tr><tr><td>423730</td></tr><tr><td>238150</td></tr><tr><td>712120</td></tr><tr><td>334220</td></tr><tr><td>424440</td></tr><tr><td>621999</td></tr><tr><td>541922</td></tr><tr><td>922130</td></tr><tr><td>611110</td></tr><tr><td>238340</td></tr><tr><td>332618</td></tr><tr><td>491110</td></tr><tr><td>713210</td></tr><tr><td>424910</td></tr><tr><td>238990</td></tr><tr><td>441310</td></tr><tr><td>112112</td></tr><tr><td>541720</td></tr><tr><td>621210</td></tr><tr><td>532310</td></tr><tr><td>237210</td></tr><tr><td>445230</td></tr><tr><td>811118</td></tr><tr><td>561320</td></tr><tr><td>451110</td></tr><tr><td>517410</td></tr><tr><td>512110</td></tr><tr><td>423820</td></tr><tr><td>238290</td></tr><tr><td>339950</td></tr><tr><td>483112</td></tr><tr><td>451130</td></tr><tr><td>561730</td></tr><tr><td>812112</td></tr><tr><td>323113</td></tr><tr><td>561790</td></tr><tr><td>713110</td></tr><tr><td>445120</td></tr><tr><td>333517</td></tr><tr><td>925120</td></tr><tr><td>335121</td></tr><tr><td>115310</td></tr><tr><td>562111</td></tr><tr><td>424480</td></tr><tr><td>333249</td></tr><tr><td>326299</td></tr><tr><td>492110</td></tr><tr><td>335999</td></tr><tr><td>444110</td></tr><tr><td>522294</td></tr><tr><td>531120</td></tr><tr><td>713990</td></tr><tr><td>339116</td></tr><tr><td>325510</td></tr><tr><td>812331</td></tr><tr><td>424110</td></tr><tr><td>333415</td></tr><tr><td>311920</td></tr><tr><td>561110</td></tr><tr><td>525920</td></tr><tr><td>331511</td></tr><tr><td>332215</td></tr><tr><td>447110</td></tr><tr><td>335210</td></tr><tr><td>512199</td></tr><tr><td>621910</td></tr><tr><td>722310</td></tr><tr><td>551112</td></tr><tr><td>541199</td></tr><tr><td>541613</td></tr><tr><td>237110</td></tr><tr><td>524128</td></tr><tr><td>541410</td></tr><tr><td>333999</td></tr><tr><td>339993</td></tr><tr><td>485991</td></tr><tr><td>611699</td></tr><tr><td>424340</td></tr><tr><td>333132</td></tr><tr><td>333243</td></tr><tr><td>111332</td></tr><tr><td>484220</td></tr><tr><td>562119</td></tr><tr><td>485111</td></tr><tr><td>485999</td></tr><tr><td>334513</td></tr><tr><td>424820</td></tr><tr><td>541380</td></tr><tr><td>331110</td></tr><tr><td>424710</td></tr><tr><td>424210</td></tr><tr><td>541712</td></tr><tr><td>221118</td></tr><tr><td>611511</td></tr><tr><td>423810</td></tr><tr><td>423450</td></tr><tr><td>454390</td></tr><tr><td>448190</td></tr><tr><td>562112</td></tr><tr><td>324121</td></tr><tr><td>238320</td></tr><tr><td>424120</td></tr><tr><td>561330</td></tr><tr><td>541214</td></tr><tr><td>447190</td></tr><tr><td>336350</td></tr><tr><td>238190</td></tr><tr><td>311911</td></tr><tr><td>923110</td></tr><tr><td>221122</td></tr><tr><td>541511</td></tr><tr><td>541211</td></tr><tr><td>425120</td></tr><tr><td>334111</td></tr><tr><td>111150</td></tr><tr><td>524292</td></tr><tr><td>515210</td></tr><tr><td>311942</td></tr><tr><td>336411</td></tr><tr><td>541213</td></tr><tr><td>531210</td></tr><tr><td>446199</td></tr><tr><td>923120</td></tr><tr><td>611420</td></tr><tr><td>336412</td></tr><tr><td>541612</td></tr><tr><td>484230</td></tr><tr><td>561210</td></tr><tr><td>333111</td></tr><tr><td>711110</td></tr><tr><td>811212</td></tr><tr><td>333318</td></tr><tr><td>541990</td></tr><tr><td>332721</td></tr><tr><td>423390</td></tr><tr><td>111199</td></tr><tr><td>336999</td></tr><tr><td>336413</td></tr><tr><td>332913</td></tr><tr><td>325312</td></tr><tr><td>541110</td></tr><tr><td>315220</td></tr><tr><td>541219</td></tr><tr><td>311212</td></tr><tr><td>532299</td></tr><tr><td>611692</td></tr><tr><td>111320</td></tr><tr><td>485119</td></tr><tr><td>541840</td></tr><tr><td>236118</td></tr><tr><td>488991</td></tr><tr><td>927110</td></tr><tr><td>711130</td></tr><tr><td>111211</td></tr><tr><td>485310</td></tr><tr><td>525910</td></tr><tr><td>238130</td></tr><tr><td>532112</td></tr><tr><td>622310</td></tr><tr><td>311999</td></tr><tr><td>446130</td></tr><tr><td>424990</td></tr><tr><td>332722</td></tr><tr><td>424470</td></tr><tr><td>332510</td></tr><tr><td>811112</td></tr><tr><td>221210</td></tr><tr><td>454310</td></tr><tr><td>423710</td></tr><tr><td>311830</td></tr><tr><td>532120</td></tr><tr><td>451140</td></tr><tr><td>327390</td></tr><tr><td>921120</td></tr><tr><td>112120</td></tr><tr><td>488490</td></tr><tr><td>238110</td></tr><tr><td>541714</td></tr><tr><td>423130</td></tr><tr><td>325180</td></tr><tr><td>423220</td></tr><tr><td>445110</td></tr><tr><td>335311</td></tr><tr><td>532291</td></tr><tr><td>541890</td></tr><tr><td>111336</td></tr><tr><td>424920</td></tr><tr><td>611610</td></tr><tr><td>622210</td></tr><tr><td>485210</td></tr><tr><td>337127</td></tr><tr><td>561312</td></tr><tr><td>311991</td></tr><tr><td>311615</td></tr><tr><td>621420</td></tr><tr><td>325998</td></tr><tr><td>443142</td></tr><tr><td>532420</td></tr><tr><td>523910</td></tr><tr><td>332311</td></tr><tr><td>424420</td></tr><tr><td>611519</td></tr><tr><td>624210</td></tr><tr><td>451120</td></tr><tr><td>337215</td></tr><tr><td>518210</td></tr><tr><td>811121</td></tr><tr><td>236210</td></tr><tr><td>444190</td></tr><tr><td>512240</td></tr><tr><td>451211</td></tr><tr><td>483113</td></tr><tr><td>561612</td></tr><tr><td>621320</td></tr><tr><td>541940</td></tr><tr><td>453910</td></tr><tr><td>339112</td></tr><tr><td>928120</td></tr><tr><td>454210</td></tr><tr><td>325411</td></tr><tr><td>446191</td></tr><tr><td>517312</td></tr><tr><td>484122</td></tr><tr><td>621491</td></tr><tr><td>541512</td></tr><tr><td>111422</td></tr><tr><td>424430</td></tr><tr><td>561710</td></tr><tr><td>532282</td></tr><tr><td>561491</td></tr><tr><td>335929</td></tr><tr><td>339999</td></tr><tr><td>512191</td></tr><tr><td>541513</td></tr><tr><td>926110</td></tr><tr><td>621511</td></tr><tr><td>334290</td></tr><tr><td>312230</td></tr><tr><td>813211</td></tr><tr><td>533110</td></tr><tr><td>524291</td></tr><tr><td>621410</td></tr><tr><td>325612</td></tr><tr><td>334614</td></tr><tr><td>337110</td></tr><tr><td>531311</td></tr><tr><td>621330</td></tr><tr><td>322211</td></tr><tr><td>325314</td></tr><tr><td>316992</td></tr><tr><td>424310</td></tr><tr><td>812199</td></tr><tr><td>237130</td></tr><tr><td>453310</td></tr><tr><td>512131</td></tr><tr><td>238350</td></tr><tr><td>541810</td></tr><tr><td>561599</td></tr><tr><td>515112</td></tr><tr><td>541618</td></tr><tr><td>926150</td></tr><tr><td>326140</td></tr><tr><td>423840</td></tr><tr><td>813212</td></tr><tr><td>813410</td></tr><tr><td>721211</td></tr><tr><td>551111</td></tr><tr><td>488119</td></tr><tr><td>621399</td></tr><tr><td>334515</td></tr><tr><td>522320</td></tr><tr><td>311412</td></tr><tr><td>486210</td></tr><tr><td>326150</td></tr><tr><td>311511</td></tr><tr><td>327320</td></tr><tr><td>331513</td></tr><tr><td>325211</td></tr><tr><td>517110</td></tr><tr><td>334412</td></tr><tr><td>332420</td></tr><tr><td>327910</td></tr><tr><td>561492</td></tr><tr><td>452311</td></tr><tr><td>332613</td></tr><tr><td>813940</td></tr><tr><td>332112</td></tr><tr><td>481112</td></tr><tr><td>311821</td></tr><tr><td>333922</td></tr><tr><td>339940</td></tr><tr><td>523210</td></tr><tr><td>332812</td></tr><tr><td>333924</td></tr><tr><td>111334</td></tr><tr><td>445220</td></tr><tr><td>928110</td></tr><tr><td>311211</td></tr><tr><td>331315</td></tr><tr><td>333519</td></tr><tr><td>333996</td></tr><tr><td>312112</td></tr><tr><td>483211</td></tr><tr><td>336419</td></tr><tr><td>488330</td></tr><tr><td>111419</td></tr><tr><td>486110</td></tr><tr><td>325414</td></tr><tr><td>333244</td></tr><tr><td>483212</td></tr><tr><td>713290</td></tr><tr><td>325220</td></tr><tr><td>481212</td></tr><tr><td>331529</td></tr><tr><td>334512</td></tr><tr><td>336111</td></tr><tr><td>712190</td></tr><tr><td>326211</td></tr><tr><td>315991</td></tr><tr><td>312113</td></tr><tr><td>332216</td></tr><tr><td>444120</td></tr><tr><td>488310</td></tr><tr><td>322291</td></tr><tr><td>111910</td></tr><tr><td>441222</td></tr><tr><td>339115</td></tr><tr><td>324110</td></tr><tr><td>335220</td></tr><tr><td>327993</td></tr><tr><td>331524</td></tr><tr><td>316210</td></tr><tr><td>321211</td></tr><tr><td>423140</td></tr><tr><td>332919</td></tr><tr><td>335312</td></tr><tr><td>313320</td></tr><tr><td>313310</td></tr><tr><td>621991</td></tr><tr><td>311224</td></tr><tr><td>333618</td></tr><tr><td>321113</td></tr><tr><td>333993</td></tr><tr><td>424450</td></tr><tr><td>525190</td></tr><tr><td>212319</td></tr><tr><td>926140</td></tr><tr><td>322121</td></tr><tr><td>562991</td></tr><tr><td>541710</td></tr><tr><td>711120</td></tr><tr><td>335911</td></tr><tr><td>522210</td></tr><tr><td>314110</td></tr><tr><td>212299</td></tr><tr><td>561591</td></tr><tr><td>311119</td></tr><tr><td>332996</td></tr><tr><td>321114</td></tr><tr><td>327212</td></tr><tr><td>332811</td></tr><tr><td>331410</td></tr><tr><td>921150</td></tr><tr><td>541350</td></tr><tr><td>336390</td></tr><tr><td>444210</td></tr><tr><td>334416</td></tr><tr><td>488390</td></tr><tr><td>326160</td></tr><tr><td>336360</td></tr><tr><td>112210</td></tr><tr><td>212222</td></tr><tr><td>331210</td></tr><tr><td>323120</td></tr><tr><td>325910</td></tr><tr><td>487990</td></tr><tr><td>811122</td></tr><tr><td>339991</td></tr><tr><td>333914</td></tr><tr><td>322299</td></tr><tr><td>311930</td></tr><tr><td>311314</td></tr><tr><td>332111</td></tr><tr><td>311111</td></tr><tr><td>562211</td></tr><tr><td>221116</td></tr><tr><td>424510</td></tr><tr><td>327420</td></tr><tr><td>326112</td></tr><tr><td>313240</td></tr><tr><td>112390</td></tr><tr><td>337910</td></tr><tr><td>326111</td></tr><tr><td>333997</td></tr><tr><td>424610</td></tr><tr><td>221115</td></tr><tr><td>483111</td></tr><tr><td>561431</td></tr><tr><td>331313</td></tr><tr><td>524127</td></tr><tr><td>482111</td></tr><tr><td>336340</td></tr><tr><td>331222</td></tr><tr><td>334210</td></tr><tr><td>112320</td></tr><tr><td>323110</td></tr><tr><td>311351</td></tr><tr><td>322219</td></tr><tr><td>326121</td></tr><tr><td>812220</td></tr><tr><td>111940</td></tr><tr><td>212312</td></tr><tr><td>334613</td></tr><tr><td>212322</td></tr><tr><td>334112</td></tr><tr><td>321992</td></tr><tr><td>311941</td></tr><tr><td>326212</td></tr><tr><td>213113</td></tr><tr><td>311513</td></tr><tr><td>111310</td></tr><tr><td>327120</td></tr><tr><td>311225</td></tr><tr><td>485112</td></tr><tr><td>524130</td></tr><tr><td>331512</td></tr><tr><td>519110</td></tr><tr><td>327992</td></tr><tr><td>114111</td></tr><tr><td>324122</td></tr><tr><td>511191</td></tr><tr><td>334517</td></tr><tr><td>442291</td></tr><tr><td>322220</td></tr><tr><td>562219</td></tr><tr><td>337122</td></tr><tr><td>315190</td></tr><tr><td>327310</td></tr><tr><td>561613</td></tr><tr><td>562212</td></tr><tr><td>335129</td></tr><tr><td>454111</td></tr><tr><td>211111</td></tr><tr><td>532292</td></tr><tr><td>925110</td></tr><tr><td>327110</td></tr><tr><td>311512</td></tr><tr><td>335931</td></tr><tr><td>331420</td></tr><tr><td>611210</td></tr><tr><td>337211</td></tr><tr><td>532283</td></tr><tr><td>333994</td></tr><tr><td>333316</td></tr><tr><td>111339</td></tr><tr><td>333112</td></tr><tr><td>112130</td></tr><tr><td>334418</td></tr><tr><td>315110</td></tr><tr><td>311613</td></tr><tr><td>335313</td></tr><tr><td>327999</td></tr><tr><td>541711</td></tr><tr><td>517210</td></tr><tr><td>482112</td></tr><tr><td>111331</td></tr><tr><td>452990</td></tr><tr><td>212392</td></tr><tr><td>486910</td></tr><tr><td>812921</td></tr><tr><td>924110</td></tr><tr><td>332117</td></tr><tr><td>611513</td></tr><tr><td>326291</td></tr><tr><td>325613</td></tr><tr><td>339995</td></tr><tr><td>339994</td></tr><tr><td>541360</td></tr><tr><td>333511</td></tr><tr><td>221121</td></tr><tr><td>326191</td></tr><tr><td>922190</td></tr><tr><td>336370</td></tr><tr><td>311423</td></tr><tr><td>332912</td></tr><tr><td>424520</td></tr><tr><td>314910</td></tr><tr><td>313220</td></tr><tr><td>316110</td></tr><tr><td>448320</td></tr><tr><td>325212</td></tr><tr><td>333612</td></tr><tr><td>111191</td></tr><tr><td>213114</td></tr><tr><td>335912</td></tr><tr><td>711212</td></tr><tr><td>212221</td></tr><tr><td>111130</td></tr><tr><td>326113</td></tr><tr><td>335921</td></tr><tr><td>313230</td></tr><tr><td>926120</td></tr><tr><td>523140</td></tr><tr><td>113210</td></tr><tr><td>321213</td></tr><tr><td>114112</td></tr><tr><td>331492</td></tr><tr><td>522190</td></tr><tr><td>326122</td></tr><tr><td>561310</td></tr><tr><td>336330</td></tr><tr><td>212113</td></tr><tr><td>486990</td></tr><tr><td>922110</td></tr><tr><td>336399</td></tr><tr><td>325520</td></tr><tr><td>212112</td></tr><tr><td>111411</td></tr><tr><td>112512</td></tr><tr><td>331314</td></tr><tr><td>922140</td></tr><tr><td>212111</td></tr><tr><td>322110</td></tr><tr><td>311514</td></tr><tr><td>213115</td></tr><tr><td>452112</td></tr><tr><td>114210</td></tr><tr><td>811430</td></tr><tr><td>335932</td></tr><tr><td>324199</td></tr><tr><td>332114</td></tr><tr><td>111930</td></tr><tr><td>321212</td></tr><tr><td>333298</td></tr><tr><td>311422</td></tr><tr><td>611410</td></tr></tbody></table></div>"
      ]
     },
     "metadata": {
      "application/vnd.databricks.v1+output": {
       "addedWidgets": {},
       "aggData": [],
       "aggError": "",
       "aggOverflow": false,
       "aggSchema": [],
       "aggSeriesLimitReached": false,
       "aggType": "",
       "arguments": {},
       "columnCustomDisplayInfos": {},
       "data": [
        [
         712110
        ],
        [
         722514
        ],
        [
         561910
        ],
        [
         445291
        ],
        [
         311710
        ],
        [
         451212
        ],
        [
         333921
        ],
        [
         332710
        ],
        [
         541611
        ],
        [
         454110
        ],
        [
         523130
        ],
        [
         488510
        ],
        [
         561920
        ],
        [
         327213
        ],
        [
         561622
        ],
        [
         541713
        ],
        [
         541850
        ],
        [
         624229
        ],
        [
         424940
        ],
        [
         713930
        ],
        [
         331491
        ],
        [
         332313
        ],
        [
         424950
        ],
        [
         512290
        ],
        [
         453210
        ],
        [
         562920
        ],
        [
         541620
        ],
        [
         444220
        ],
        [
         517919
        ],
        [
         722211
        ],
        [
         813930
        ],
        [
         314120
        ],
        [
         336991
        ],
        [
         238170
        ],
        [
         524114
        ],
        [
         334511
        ],
        [
         485113
        ],
        [
         484121
        ],
        [
         423510
        ],
        [
         562998
        ],
        [
         325611
        ],
        [
         448150
        ],
        [
         811420
        ],
        [
         334417
        ],
        [
         811191
        ],
        [
         487210
        ],
        [
         522390
        ],
        [
         238120
        ],
        [
         531390
        ],
        [
         423620
        ],
        [
         334510
        ],
        [
         481111
        ],
        [
         337920
        ],
        [
         423330
        ],
        [
         445292
        ],
        [
         812320
        ],
        [
         811198
        ],
        [
         335122
        ],
        [
         333923
        ],
        [
         334514
        ],
        [
         517212
        ],
        [
         238210
        ],
        [
         221310
        ],
        [
         333991
        ],
        [
         424930
        ],
        [
         922150
        ],
        [
         332813
        ],
        [
         111998
        ],
        [
         238910
        ],
        [
         321912
        ],
        [
         332321
        ],
        [
         621492
        ],
        [
         721191
        ],
        [
         522298
        ],
        [
         441221
        ],
        [
         523920
        ],
        [
         321999
        ],
        [
         446120
        ],
        [
         112990
        ],
        [
         238140
        ],
        [
         813110
        ],
        [
         423110
        ],
        [
         541614
        ],
        [
         541910
        ],
        [
         311812
        ],
        [
         424810
        ],
        [
         485510
        ],
        [
         333314
        ],
        [
         621310
        ],
        [
         442210
        ],
        [
         524113
        ],
        [
         424320
        ],
        [
         221111
        ],
        [
         811412
        ],
        [
         611691
        ],
        [
         524298
        ],
        [
         333414
        ],
        [
         481211
        ],
        [
         481219
        ],
        [
         811111
        ],
        [
         212399
        ],
        [
         221117
        ],
        [
         484110
        ],
        [
         517911
        ],
        [
         323115
        ],
        [
         424590
        ],
        [
         517311
        ],
        [
         423920
        ],
        [
         453110
        ],
        [
         811113
        ],
        [
         112519
        ],
        [
         444130
        ],
        [
         339910
        ],
        [
         711219
        ],
        [
         339920
        ],
        [
         522291
        ],
        [
         321911
        ],
        [
         488210
        ],
        [
         454113
        ],
        [
         339930
        ],
        [
         336320
        ],
        [
         623311
        ],
        [
         332991
        ],
        [
         493130
        ],
        [
         453920
        ],
        [
         321991
        ],
        [
         812310
        ],
        [
         441120
        ],
        [
         333613
        ],
        [
         332994
        ],
        [
         623990
        ],
        [
         523120
        ],
        [
         423430
        ],
        [
         339113
        ],
        [
         811219
        ],
        [
         523999
        ],
        [
         424410
        ],
        [
         512120
        ],
        [
         314999
        ],
        [
         445299
        ],
        [
         512250
        ],
        [
         424330
        ],
        [
         332439
        ],
        [
         111333
        ],
        [
         511199
        ],
        [
         332323
        ],
        [
         621493
        ],
        [
         335314
        ],
        [
         333515
        ],
        [
         441228
        ],
        [
         445210
        ],
        [
         331221
        ],
        [
         325413
        ],
        [
         112511
        ],
        [
         493110
        ],
        [
         624190
        ],
        [
         442299
        ],
        [
         334419
        ],
        [
         448310
        ],
        [
         315210
        ],
        [
         327215
        ],
        [
         333241
        ],
        [
         452111
        ],
        [
         null
        ],
        [
         424490
        ],
        [
         541340
        ],
        [
         336211
        ],
        [
         488410
        ],
        [
         488190
        ],
        [
         621498
        ],
        [
         313110
        ],
        [
         312111
        ],
        [
         531190
        ],
        [
         624110
        ],
        [
         813311
        ],
        [
         722320
        ],
        [
         111219
        ],
        [
         541519
        ],
        [
         423720
        ],
        [
         336310
        ],
        [
         487110
        ],
        [
         114119
        ],
        [
         311221
        ],
        [
         339992
        ],
        [
         334310
        ],
        [
         541820
        ],
        [
         541420
        ],
        [
         325412
        ],
        [
         523110
        ],
        [
         212311
        ],
        [
         453991
        ],
        [
         611620
        ],
        [
         323117
        ],
        [
         336612
        ],
        [
         813312
        ],
        [
         926130
        ],
        [
         624120
        ],
        [
         515120
        ],
        [
         445310
        ],
        [
         212321
        ],
        [
         321918
        ],
        [
         339114
        ],
        [
         721199
        ],
        [
         551114
        ],
        [
         532111
        ],
        [
         424130
        ],
        [
         425110
        ],
        [
         541870
        ],
        [
         448130
        ],
        [
         493120
        ],
        [
         311612
        ],
        [
         621112
        ],
        [
         621391
        ],
        [
         924120
        ],
        [
         812191
        ],
        [
         711320
        ],
        [
         115116
        ],
        [
         311813
        ],
        [
         923130
        ],
        [
         113110
        ],
        [
         336120
        ],
        [
         311421
        ],
        [
         111421
        ],
        [
         561422
        ],
        [
         611630
        ],
        [
         525110
        ],
        [
         711211
        ],
        [
         921190
        ],
        [
         423120
        ],
        [
         423440
        ],
        [
         423940
        ],
        [
         332999
        ],
        [
         621111
        ],
        [
         621610
        ],
        [
         812990
        ],
        [
         561311
        ],
        [
         423490
        ],
        [
         213112
        ],
        [
         333120
        ],
        [
         711310
        ],
        [
         315990
        ],
        [
         562910
        ],
        [
         561440
        ],
        [
         112310
        ],
        [
         541370
        ],
        [
         446110
        ],
        [
         238330
        ],
        [
         541860
        ],
        [
         334118
        ],
        [
         722410
        ],
        [
         561499
        ],
        [
         524210
        ],
        [
         238390
        ],
        [
         812910
        ],
        [
         333514
        ],
        [
         327211
        ],
        [
         722513
        ],
        [
         423690
        ],
        [
         523991
        ],
        [
         511210
        ],
        [
         721310
        ],
        [
         337124
        ],
        [
         335991
        ],
        [
         525120
        ],
        [
         624310
        ],
        [
         327991
        ],
        [
         525990
        ],
        [
         722511
        ],
        [
         334516
        ],
        [
         337121
        ],
        [
         713920
        ],
        [
         448210
        ],
        [
         541430
        ],
        [
         541330
        ],
        [
         921130
        ],
        [
         336510
        ],
        [
         452210
        ],
        [
         236116
        ],
        [
         623210
        ],
        [
         532281
        ],
        [
         423310
        ],
        [
         111120
        ],
        [
         238160
        ],
        [
         448120
        ],
        [
         522292
        ],
        [
         423610
        ],
        [
         713120
        ],
        [
         813910
        ],
        [
         811211
        ],
        [
         519130
        ],
        [
         722330
        ],
        [
         522293
        ],
        [
         335110
        ],
        [
         624410
        ],
        [
         238310
        ],
        [
         561520
        ],
        [
         721120
        ],
        [
         814110
        ],
        [
         331318
        ],
        [
         511130
        ],
        [
         541715
        ],
        [
         811192
        ],
        [
         213111
        ],
        [
         332911
        ],
        [
         713910
        ],
        [
         115112
        ],
        [
         488320
        ],
        [
         111335
        ],
        [
         236115
        ],
        [
         423320
        ],
        [
         813219
        ],
        [
         112910
        ],
        [
         336611
        ],
        [
         713950
        ],
        [
         115113
        ],
        [
         811213
        ],
        [
         325320
        ],
        [
         238220
        ],
        [
         531320
        ],
        [
         711510
        ],
        [
         721214
        ],
        [
         112111
        ],
        [
         561410
        ],
        [
         511120
        ],
        [
         221114
        ],
        [
         423910
        ],
        [
         423210
        ],
        [
         237310
        ],
        [
         621340
        ],
        [
         541310
        ],
        [
         336212
        ],
        [
         561421
        ],
        [
         531110
        ],
        [
         332322
        ],
        [
         485410
        ],
        [
         519120
        ],
        [
         811411
        ],
        [
         327331
        ],
        [
         424690
        ],
        [
         115114
        ],
        [
         611310
        ],
        [
         333131
        ],
        [
         332119
        ],
        [
         115210
        ],
        [
         424460
        ],
        [
         316998
        ],
        [
         236220
        ],
        [
         541830
        ],
        [
         522310
        ],
        [
         236117
        ],
        [
         511110
        ],
        [
         336214
        ],
        [
         115115
        ],
        [
         326199
        ],
        [
         611710
        ],
        [
         541930
        ],
        [
         325193
        ],
        [
         522110
        ],
        [
         424720
        ],
        [
         311520
        ],
        [
         813920
        ],
        [
         492210
        ],
        [
         321214
        ],
        [
         623220
        ],
        [
         211120
        ],
        [
         532411
        ],
        [
         442110
        ],
        [
         312120
        ],
        [
         812210
        ],
        [
         812930
        ],
        [
         921110
        ],
        [
         113310
        ],
        [
         488999
        ],
        [
         722515
        ],
        [
         453220
        ],
        [
         531130
        ],
        [
         711190
        ],
        [
         323111
        ],
        [
         237990
        ],
        [
         611430
        ],
        [
         311411
        ],
        [
         624230
        ],
        [
         326220
        ],
        [
         423420
        ],
        [
         337125
        ],
        [
         311611
        ],
        [
         333242
        ],
        [
         111110
        ],
        [
         441320
        ],
        [
         325620
        ],
        [
         311824
        ],
        [
         115111
        ],
        [
         623110
        ],
        [
         452319
        ],
        [
         322230
        ],
        [
         448110
        ],
        [
         488111
        ],
        [
         532412
        ],
        [
         561990
        ],
        [
         311919
        ],
        [
         312130
        ],
        [
         312140
        ],
        [
         337212
        ],
        [
         922120
        ],
        [
         331523
        ],
        [
         532284
        ],
        [
         111920
        ],
        [
         322212
        ],
        [
         813990
        ],
        [
         311340
        ],
        [
         541921
        ],
        [
         334519
        ],
        [
         922160
        ],
        [
         493190
        ],
        [
         519190
        ],
        [
         515111
        ],
        [
         321920
        ],
        [
         325991
        ],
        [
         712130
        ],
        [
         333611
        ],
        [
         541490
        ],
        [
         621512
        ],
        [
         522220
        ],
        [
         561740
        ],
        [
         333992
        ],
        [
         561720
        ],
        [
         561510
        ],
        [
         332312
        ],
        [
         423830
        ],
        [
         325120
        ],
        [
         524126
        ],
        [
         333413
        ],
        [
         423860
        ],
        [
         512230
        ],
        [
         511140
        ],
        [
         812111
        ],
        [
         531312
        ],
        [
         423410
        ],
        [
         441210
        ],
        [
         423460
        ],
        [
         623312
        ],
        [
         811490
        ],
        [
         112920
        ],
        [
         441110
        ],
        [
         326130
        ],
        [
         611512
        ],
        [
         561611
        ],
        [
         311352
        ],
        [
         622110
        ],
        [
         423740
        ],
        [
         313210
        ],
        [
         532289
        ],
        [
         722110
        ],
        [
         332992
        ],
        [
         221112
        ],
        [
         423930
        ],
        [
         315240
        ],
        [
         315280
        ],
        [
         999990
        ],
        [
         532210
        ],
        [
         324191
        ],
        [
         812332
        ],
        [
         561621
        ],
        [
         325110
        ],
        [
         332410
        ],
        [
         485320
        ],
        [
         541320
        ],
        [
         336112
        ],
        [
         541191
        ],
        [
         237120
        ],
        [
         453930
        ],
        [
         812113
        ],
        [
         211130
        ],
        [
         423520
        ],
        [
         334413
        ],
        [
         443141
        ],
        [
         561439
        ],
        [
         337214
        ],
        [
         325992
        ],
        [
         811310
        ],
        [
         325199
        ],
        [
         448140
        ],
        [
         333912
        ],
        [
         721110
        ],
        [
         484210
        ],
        [
         711410
        ],
        [
         532490
        ],
        [
         325311
        ],
        [
         541690
        ],
        [
         221320
        ],
        [
         453998
        ],
        [
         713940
        ],
        [
         333995
        ],
        [
         561450
        ],
        [
         423850
        ],
        [
         624221
        ],
        [
         423990
        ],
        [
         813319
        ],
        [
         311811
        ],
        [
         523930
        ],
        [
         423730
        ],
        [
         238150
        ],
        [
         712120
        ],
        [
         334220
        ],
        [
         424440
        ],
        [
         621999
        ],
        [
         541922
        ],
        [
         922130
        ],
        [
         611110
        ],
        [
         238340
        ],
        [
         332618
        ],
        [
         491110
        ],
        [
         713210
        ],
        [
         424910
        ],
        [
         238990
        ],
        [
         441310
        ],
        [
         112112
        ],
        [
         541720
        ],
        [
         621210
        ],
        [
         532310
        ],
        [
         237210
        ],
        [
         445230
        ],
        [
         811118
        ],
        [
         561320
        ],
        [
         451110
        ],
        [
         517410
        ],
        [
         512110
        ],
        [
         423820
        ],
        [
         238290
        ],
        [
         339950
        ],
        [
         483112
        ],
        [
         451130
        ],
        [
         561730
        ],
        [
         812112
        ],
        [
         323113
        ],
        [
         561790
        ],
        [
         713110
        ],
        [
         445120
        ],
        [
         333517
        ],
        [
         925120
        ],
        [
         335121
        ],
        [
         115310
        ],
        [
         562111
        ],
        [
         424480
        ],
        [
         333249
        ],
        [
         326299
        ],
        [
         492110
        ],
        [
         335999
        ],
        [
         444110
        ],
        [
         522294
        ],
        [
         531120
        ],
        [
         713990
        ],
        [
         339116
        ],
        [
         325510
        ],
        [
         812331
        ],
        [
         424110
        ],
        [
         333415
        ],
        [
         311920
        ],
        [
         561110
        ],
        [
         525920
        ],
        [
         331511
        ],
        [
         332215
        ],
        [
         447110
        ],
        [
         335210
        ],
        [
         512199
        ],
        [
         621910
        ],
        [
         722310
        ],
        [
         551112
        ],
        [
         541199
        ],
        [
         541613
        ],
        [
         237110
        ],
        [
         524128
        ],
        [
         541410
        ],
        [
         333999
        ],
        [
         339993
        ],
        [
         485991
        ],
        [
         611699
        ],
        [
         424340
        ],
        [
         333132
        ],
        [
         333243
        ],
        [
         111332
        ],
        [
         484220
        ],
        [
         562119
        ],
        [
         485111
        ],
        [
         485999
        ],
        [
         334513
        ],
        [
         424820
        ],
        [
         541380
        ],
        [
         331110
        ],
        [
         424710
        ],
        [
         424210
        ],
        [
         541712
        ],
        [
         221118
        ],
        [
         611511
        ],
        [
         423810
        ],
        [
         423450
        ],
        [
         454390
        ],
        [
         448190
        ],
        [
         562112
        ],
        [
         324121
        ],
        [
         238320
        ],
        [
         424120
        ],
        [
         561330
        ],
        [
         541214
        ],
        [
         447190
        ],
        [
         336350
        ],
        [
         238190
        ],
        [
         311911
        ],
        [
         923110
        ],
        [
         221122
        ],
        [
         541511
        ],
        [
         541211
        ],
        [
         425120
        ],
        [
         334111
        ],
        [
         111150
        ],
        [
         524292
        ],
        [
         515210
        ],
        [
         311942
        ],
        [
         336411
        ],
        [
         541213
        ],
        [
         531210
        ],
        [
         446199
        ],
        [
         923120
        ],
        [
         611420
        ],
        [
         336412
        ],
        [
         541612
        ],
        [
         484230
        ],
        [
         561210
        ],
        [
         333111
        ],
        [
         711110
        ],
        [
         811212
        ],
        [
         333318
        ],
        [
         541990
        ],
        [
         332721
        ],
        [
         423390
        ],
        [
         111199
        ],
        [
         336999
        ],
        [
         336413
        ],
        [
         332913
        ],
        [
         325312
        ],
        [
         541110
        ],
        [
         315220
        ],
        [
         541219
        ],
        [
         311212
        ],
        [
         532299
        ],
        [
         611692
        ],
        [
         111320
        ],
        [
         485119
        ],
        [
         541840
        ],
        [
         236118
        ],
        [
         488991
        ],
        [
         927110
        ],
        [
         711130
        ],
        [
         111211
        ],
        [
         485310
        ],
        [
         525910
        ],
        [
         238130
        ],
        [
         532112
        ],
        [
         622310
        ],
        [
         311999
        ],
        [
         446130
        ],
        [
         424990
        ],
        [
         332722
        ],
        [
         424470
        ],
        [
         332510
        ],
        [
         811112
        ],
        [
         221210
        ],
        [
         454310
        ],
        [
         423710
        ],
        [
         311830
        ],
        [
         532120
        ],
        [
         451140
        ],
        [
         327390
        ],
        [
         921120
        ],
        [
         112120
        ],
        [
         488490
        ],
        [
         238110
        ],
        [
         541714
        ],
        [
         423130
        ],
        [
         325180
        ],
        [
         423220
        ],
        [
         445110
        ],
        [
         335311
        ],
        [
         532291
        ],
        [
         541890
        ],
        [
         111336
        ],
        [
         424920
        ],
        [
         611610
        ],
        [
         622210
        ],
        [
         485210
        ],
        [
         337127
        ],
        [
         561312
        ],
        [
         311991
        ],
        [
         311615
        ],
        [
         621420
        ],
        [
         325998
        ],
        [
         443142
        ],
        [
         532420
        ],
        [
         523910
        ],
        [
         332311
        ],
        [
         424420
        ],
        [
         611519
        ],
        [
         624210
        ],
        [
         451120
        ],
        [
         337215
        ],
        [
         518210
        ],
        [
         811121
        ],
        [
         236210
        ],
        [
         444190
        ],
        [
         512240
        ],
        [
         451211
        ],
        [
         483113
        ],
        [
         561612
        ],
        [
         621320
        ],
        [
         541940
        ],
        [
         453910
        ],
        [
         339112
        ],
        [
         928120
        ],
        [
         454210
        ],
        [
         325411
        ],
        [
         446191
        ],
        [
         517312
        ],
        [
         484122
        ],
        [
         621491
        ],
        [
         541512
        ],
        [
         111422
        ],
        [
         424430
        ],
        [
         561710
        ],
        [
         532282
        ],
        [
         561491
        ],
        [
         335929
        ],
        [
         339999
        ],
        [
         512191
        ],
        [
         541513
        ],
        [
         926110
        ],
        [
         621511
        ],
        [
         334290
        ],
        [
         312230
        ],
        [
         813211
        ],
        [
         533110
        ],
        [
         524291
        ],
        [
         621410
        ],
        [
         325612
        ],
        [
         334614
        ],
        [
         337110
        ],
        [
         531311
        ],
        [
         621330
        ],
        [
         322211
        ],
        [
         325314
        ],
        [
         316992
        ],
        [
         424310
        ],
        [
         812199
        ],
        [
         237130
        ],
        [
         453310
        ],
        [
         512131
        ],
        [
         238350
        ],
        [
         541810
        ],
        [
         561599
        ],
        [
         515112
        ],
        [
         541618
        ],
        [
         926150
        ],
        [
         326140
        ],
        [
         423840
        ],
        [
         813212
        ],
        [
         813410
        ],
        [
         721211
        ],
        [
         551111
        ],
        [
         488119
        ],
        [
         621399
        ],
        [
         334515
        ],
        [
         522320
        ],
        [
         311412
        ],
        [
         486210
        ],
        [
         326150
        ],
        [
         311511
        ],
        [
         327320
        ],
        [
         331513
        ],
        [
         325211
        ],
        [
         517110
        ],
        [
         334412
        ],
        [
         332420
        ],
        [
         327910
        ],
        [
         561492
        ],
        [
         452311
        ],
        [
         332613
        ],
        [
         813940
        ],
        [
         332112
        ],
        [
         481112
        ],
        [
         311821
        ],
        [
         333922
        ],
        [
         339940
        ],
        [
         523210
        ],
        [
         332812
        ],
        [
         333924
        ],
        [
         111334
        ],
        [
         445220
        ],
        [
         928110
        ],
        [
         311211
        ],
        [
         331315
        ],
        [
         333519
        ],
        [
         333996
        ],
        [
         312112
        ],
        [
         483211
        ],
        [
         336419
        ],
        [
         488330
        ],
        [
         111419
        ],
        [
         486110
        ],
        [
         325414
        ],
        [
         333244
        ],
        [
         483212
        ],
        [
         713290
        ],
        [
         325220
        ],
        [
         481212
        ],
        [
         331529
        ],
        [
         334512
        ],
        [
         336111
        ],
        [
         712190
        ],
        [
         326211
        ],
        [
         315991
        ],
        [
         312113
        ],
        [
         332216
        ],
        [
         444120
        ],
        [
         488310
        ],
        [
         322291
        ],
        [
         111910
        ],
        [
         441222
        ],
        [
         339115
        ],
        [
         324110
        ],
        [
         335220
        ],
        [
         327993
        ],
        [
         331524
        ],
        [
         316210
        ],
        [
         321211
        ],
        [
         423140
        ],
        [
         332919
        ],
        [
         335312
        ],
        [
         313320
        ],
        [
         313310
        ],
        [
         621991
        ],
        [
         311224
        ],
        [
         333618
        ],
        [
         321113
        ],
        [
         333993
        ],
        [
         424450
        ],
        [
         525190
        ],
        [
         212319
        ],
        [
         926140
        ],
        [
         322121
        ],
        [
         562991
        ],
        [
         541710
        ],
        [
         711120
        ],
        [
         335911
        ],
        [
         522210
        ],
        [
         314110
        ],
        [
         212299
        ],
        [
         561591
        ],
        [
         311119
        ],
        [
         332996
        ],
        [
         321114
        ],
        [
         327212
        ],
        [
         332811
        ],
        [
         331410
        ],
        [
         921150
        ],
        [
         541350
        ],
        [
         336390
        ],
        [
         444210
        ],
        [
         334416
        ],
        [
         488390
        ],
        [
         326160
        ],
        [
         336360
        ],
        [
         112210
        ],
        [
         212222
        ],
        [
         331210
        ],
        [
         323120
        ],
        [
         325910
        ],
        [
         487990
        ],
        [
         811122
        ],
        [
         339991
        ],
        [
         333914
        ],
        [
         322299
        ],
        [
         311930
        ],
        [
         311314
        ],
        [
         332111
        ],
        [
         311111
        ],
        [
         562211
        ],
        [
         221116
        ],
        [
         424510
        ],
        [
         327420
        ],
        [
         326112
        ],
        [
         313240
        ],
        [
         112390
        ],
        [
         337910
        ],
        [
         326111
        ],
        [
         333997
        ],
        [
         424610
        ],
        [
         221115
        ],
        [
         483111
        ],
        [
         561431
        ],
        [
         331313
        ],
        [
         524127
        ],
        [
         482111
        ],
        [
         336340
        ],
        [
         331222
        ],
        [
         334210
        ],
        [
         112320
        ],
        [
         323110
        ],
        [
         311351
        ],
        [
         322219
        ],
        [
         326121
        ],
        [
         812220
        ],
        [
         111940
        ],
        [
         212312
        ],
        [
         334613
        ],
        [
         212322
        ],
        [
         334112
        ],
        [
         321992
        ],
        [
         311941
        ],
        [
         326212
        ],
        [
         213113
        ],
        [
         311513
        ],
        [
         111310
        ],
        [
         327120
        ],
        [
         311225
        ],
        [
         485112
        ],
        [
         524130
        ],
        [
         331512
        ],
        [
         519110
        ],
        [
         327992
        ],
        [
         114111
        ],
        [
         324122
        ],
        [
         511191
        ],
        [
         334517
        ],
        [
         442291
        ],
        [
         322220
        ],
        [
         562219
        ],
        [
         337122
        ],
        [
         315190
        ],
        [
         327310
        ],
        [
         561613
        ],
        [
         562212
        ],
        [
         335129
        ],
        [
         454111
        ],
        [
         211111
        ],
        [
         532292
        ],
        [
         925110
        ],
        [
         327110
        ],
        [
         311512
        ],
        [
         335931
        ],
        [
         331420
        ],
        [
         611210
        ],
        [
         337211
        ],
        [
         532283
        ],
        [
         333994
        ],
        [
         333316
        ],
        [
         111339
        ],
        [
         333112
        ],
        [
         112130
        ],
        [
         334418
        ],
        [
         315110
        ],
        [
         311613
        ],
        [
         335313
        ],
        [
         327999
        ],
        [
         541711
        ],
        [
         517210
        ],
        [
         482112
        ],
        [
         111331
        ],
        [
         452990
        ],
        [
         212392
        ],
        [
         486910
        ],
        [
         812921
        ],
        [
         924110
        ],
        [
         332117
        ],
        [
         611513
        ],
        [
         326291
        ],
        [
         325613
        ],
        [
         339995
        ],
        [
         339994
        ],
        [
         541360
        ],
        [
         333511
        ],
        [
         221121
        ],
        [
         326191
        ],
        [
         922190
        ],
        [
         336370
        ],
        [
         311423
        ],
        [
         332912
        ],
        [
         424520
        ],
        [
         314910
        ],
        [
         313220
        ],
        [
         316110
        ],
        [
         448320
        ],
        [
         325212
        ],
        [
         333612
        ],
        [
         111191
        ],
        [
         213114
        ],
        [
         335912
        ],
        [
         711212
        ],
        [
         212221
        ],
        [
         111130
        ],
        [
         326113
        ],
        [
         335921
        ],
        [
         313230
        ],
        [
         926120
        ],
        [
         523140
        ],
        [
         113210
        ],
        [
         321213
        ],
        [
         114112
        ],
        [
         331492
        ],
        [
         522190
        ],
        [
         326122
        ],
        [
         561310
        ],
        [
         336330
        ],
        [
         212113
        ],
        [
         486990
        ],
        [
         922110
        ],
        [
         336399
        ],
        [
         325520
        ],
        [
         212112
        ],
        [
         111411
        ],
        [
         112512
        ],
        [
         331314
        ],
        [
         922140
        ],
        [
         212111
        ],
        [
         322110
        ],
        [
         311514
        ],
        [
         213115
        ],
        [
         452112
        ],
        [
         114210
        ],
        [
         811430
        ],
        [
         335932
        ],
        [
         324199
        ],
        [
         332114
        ],
        [
         111930
        ],
        [
         321212
        ],
        [
         333298
        ],
        [
         311422
        ],
        [
         611410
        ]
       ],
       "datasetInfos": [],
       "dbfsResultPath": null,
       "isJsonSchema": true,
       "metadata": {},
       "overflow": false,
       "plotOptions": {
        "customPlotOptions": {},
        "displayType": "table",
        "pivotAggregation": null,
        "pivotColumns": null,
        "xColumns": null,
        "yColumns": null
       },
       "removedWidgets": [],
       "schema": [
        {
         "metadata": "{}",
         "name": "NAICSCode",
         "type": "\"integer\""
        }
       ],
       "type": "table"
      }
     },
     "output_type": "display_data"
    }
   ],
   "source": [
    "display(features_df.select(\"NAICSCode\").distinct())\n",
    "most_common_naics = features_df.groupBy(\"NAICSCode\").count().orderBy(col(\"count\").desc()).first()[0]\n",
    "features_df = features_df.withColumn(\"NAICSCode\", when(col(\"NAICSCode\").isNull(), most_common_naics).otherwise(col(\"NAICSCode\")))"
   ]
  },
  {
   "cell_type": "code",
   "execution_count": 0,
   "metadata": {
    "application/vnd.databricks.v1+cell": {
     "cellMetadata": {
      "byteLimit": 2048000,
      "rowLimit": 10000
     },
     "inputWidgets": {},
     "nuid": "8f929cdb-4db3-42e1-81d5-90152b3bb8fd",
     "showTitle": false,
     "title": ""
    }
   },
   "outputs": [
    {
     "output_type": "execute_result",
     "data": {
      "text/plain": [
       "DataFrame[OriginatingLenderCity: string, BorrowerCity: string, Term: int, InitialApprovalAmount: double, RuralUrbanIndicator: string, HubzoneIndicator: string, LMIIndicator: string, BusinessAgeDescription: string, ProjectCity: string, JobsReported: int, PAYROLL_PROCEED: double, BusinessType: string, LoanStatus: string, NAICSCode: int, DEBT_INTEREST_PROCEED: double, MORTGAGE_INTEREST_PROCEED: double, REFINANCE_EIDL_PROCEED: double, Gender: string, Veteran: string]"
      ]
     },
     "execution_count": 23,
     "metadata": {},
     "output_type": "execute_result"
    }
   ],
   "source": [
    "# debt_average_value = features_df.select(mean(\"DEBT_INTEREST_PROCEED\")).collect()[0][0]\n",
    "features_df = features_df.withColumn(\"DEBT_INTEREST_PROCEED\", when(col(\"DEBT_INTEREST_PROCEED\").isNull(), -1).otherwise(col(\"DEBT_INTEREST_PROCEED\")))\n",
    "\n",
    "features_df.cache()\n",
    "\n",
    "features_df = features_df.withColumn(\"MORTGAGE_INTEREST_PROCEED\", when(col(\"MORTGAGE_INTEREST_PROCEED\").isNull(), -1).otherwise(col(\"MORTGAGE_INTEREST_PROCEED\")))\n",
    "\n",
    "features_df = features_df.withColumn(\"REFINANCE_EIDL_PROCEED\", when(col(\"REFINANCE_EIDL_PROCEED\").isNull(), -1).otherwise(col(\"REFINANCE_EIDL_PROCEED\")))\n",
    "\n",
    "features_df.cache()"
   ]
  },
  {
   "cell_type": "code",
   "execution_count": 0,
   "metadata": {
    "application/vnd.databricks.v1+cell": {
     "cellMetadata": {
      "byteLimit": 2048000,
      "rowLimit": 10000
     },
     "inputWidgets": {},
     "nuid": "4476331a-c389-4067-a9fe-4ba198c170da",
     "showTitle": false,
     "title": ""
    }
   },
   "outputs": [
    {
     "output_type": "display_data",
     "data": {
      "text/html": [
       "<style scoped>\n",
       "  .table-result-container {\n",
       "    max-height: 300px;\n",
       "    overflow: auto;\n",
       "  }\n",
       "  table, th, td {\n",
       "    border: 1px solid black;\n",
       "    border-collapse: collapse;\n",
       "  }\n",
       "  th, td {\n",
       "    padding: 5px;\n",
       "  }\n",
       "  th {\n",
       "    text-align: left;\n",
       "  }\n",
       "</style><div class='table-result-container'><table class='table-result'><thead style='background-color: white'><tr><th>Term</th></tr></thead><tbody><tr><td>31</td></tr><tr><td>53</td></tr><tr><td>34</td></tr><tr><td>193</td></tr><tr><td>81</td></tr><tr><td>28</td></tr><tr><td>76</td></tr><tr><td>27</td></tr><tr><td>26</td></tr><tr><td>44</td></tr><tr><td>12</td></tr><tr><td>91</td></tr><tr><td>22</td></tr><tr><td>47</td></tr><tr><td>1</td></tr><tr><td>52</td></tr><tr><td>13</td></tr><tr><td>6</td></tr><tr><td>16</td></tr><tr><td>3</td></tr><tr><td>142</td></tr><tr><td>178</td></tr><tr><td>40</td></tr><tr><td>20</td></tr><tr><td>94</td></tr><tr><td>120</td></tr><tr><td>54</td></tr><tr><td>48</td></tr><tr><td>5</td></tr><tr><td>19</td></tr><tr><td>41</td></tr><tr><td>43</td></tr><tr><td>15</td></tr><tr><td>37</td></tr><tr><td>61</td></tr><tr><td>88</td></tr><tr><td>107</td></tr><tr><td>9</td></tr><tr><td>17</td></tr><tr><td>72</td></tr><tr><td>35</td></tr><tr><td>59</td></tr><tr><td>4</td></tr><tr><td>55</td></tr><tr><td>8</td></tr><tr><td>39</td></tr><tr><td>23</td></tr><tr><td>49</td></tr><tr><td>7</td></tr><tr><td>51</td></tr><tr><td>69</td></tr><tr><td>97</td></tr><tr><td>77</td></tr><tr><td>10</td></tr><tr><td>50</td></tr><tr><td>45</td></tr><tr><td>38</td></tr><tr><td>82</td></tr><tr><td>80</td></tr><tr><td>25</td></tr><tr><td>24</td></tr><tr><td>70</td></tr><tr><td>62</td></tr><tr><td>29</td></tr><tr><td>21</td></tr><tr><td>60</td></tr><tr><td>32</td></tr><tr><td>75</td></tr><tr><td>203</td></tr><tr><td>58</td></tr><tr><td>33</td></tr><tr><td>11</td></tr><tr><td>110</td></tr><tr><td>83</td></tr><tr><td>68</td></tr><tr><td>14</td></tr><tr><td>42</td></tr><tr><td>119</td></tr><tr><td>2</td></tr><tr><td>79</td></tr><tr><td>118</td></tr><tr><td>30</td></tr><tr><td>46</td></tr><tr><td>0</td></tr><tr><td>138</td></tr><tr><td>74</td></tr><tr><td>180</td></tr><tr><td>36</td></tr><tr><td>65</td></tr><tr><td>78</td></tr><tr><td>103</td></tr><tr><td>86</td></tr><tr><td>179</td></tr><tr><td>130</td></tr><tr><td>84</td></tr><tr><td>63</td></tr><tr><td>95</td></tr><tr><td>90</td></tr><tr><td>141</td></tr><tr><td>116</td></tr><tr><td>199</td></tr><tr><td>66</td></tr><tr><td>18</td></tr><tr><td>89</td></tr><tr><td>85</td></tr><tr><td>92</td></tr><tr><td>64</td></tr><tr><td>87</td></tr><tr><td>98</td></tr><tr><td>56</td></tr><tr><td>67</td></tr><tr><td>144</td></tr><tr><td>108</td></tr><tr><td>128</td></tr><tr><td>93</td></tr><tr><td>96</td></tr><tr><td>175</td></tr><tr><td>73</td></tr><tr><td>109</td></tr><tr><td>71</td></tr><tr><td>57</td></tr><tr><td>105</td></tr><tr><td>215</td></tr><tr><td>202</td></tr><tr><td>113</td></tr><tr><td>156</td></tr><tr><td>106</td></tr><tr><td>137</td></tr><tr><td>111</td></tr><tr><td>172</td></tr></tbody></table></div>"
      ]
     },
     "metadata": {
      "application/vnd.databricks.v1+output": {
       "addedWidgets": {},
       "aggData": [],
       "aggError": "",
       "aggOverflow": false,
       "aggSchema": [],
       "aggSeriesLimitReached": false,
       "aggType": "",
       "arguments": {},
       "columnCustomDisplayInfos": {},
       "data": [
        [
         31
        ],
        [
         53
        ],
        [
         34
        ],
        [
         193
        ],
        [
         81
        ],
        [
         28
        ],
        [
         76
        ],
        [
         27
        ],
        [
         26
        ],
        [
         44
        ],
        [
         12
        ],
        [
         91
        ],
        [
         22
        ],
        [
         47
        ],
        [
         1
        ],
        [
         52
        ],
        [
         13
        ],
        [
         6
        ],
        [
         16
        ],
        [
         3
        ],
        [
         142
        ],
        [
         178
        ],
        [
         40
        ],
        [
         20
        ],
        [
         94
        ],
        [
         120
        ],
        [
         54
        ],
        [
         48
        ],
        [
         5
        ],
        [
         19
        ],
        [
         41
        ],
        [
         43
        ],
        [
         15
        ],
        [
         37
        ],
        [
         61
        ],
        [
         88
        ],
        [
         107
        ],
        [
         9
        ],
        [
         17
        ],
        [
         72
        ],
        [
         35
        ],
        [
         59
        ],
        [
         4
        ],
        [
         55
        ],
        [
         8
        ],
        [
         39
        ],
        [
         23
        ],
        [
         49
        ],
        [
         7
        ],
        [
         51
        ],
        [
         69
        ],
        [
         97
        ],
        [
         77
        ],
        [
         10
        ],
        [
         50
        ],
        [
         45
        ],
        [
         38
        ],
        [
         82
        ],
        [
         80
        ],
        [
         25
        ],
        [
         24
        ],
        [
         70
        ],
        [
         62
        ],
        [
         29
        ],
        [
         21
        ],
        [
         60
        ],
        [
         32
        ],
        [
         75
        ],
        [
         203
        ],
        [
         58
        ],
        [
         33
        ],
        [
         11
        ],
        [
         110
        ],
        [
         83
        ],
        [
         68
        ],
        [
         14
        ],
        [
         42
        ],
        [
         119
        ],
        [
         2
        ],
        [
         79
        ],
        [
         118
        ],
        [
         30
        ],
        [
         46
        ],
        [
         0
        ],
        [
         138
        ],
        [
         74
        ],
        [
         180
        ],
        [
         36
        ],
        [
         65
        ],
        [
         78
        ],
        [
         103
        ],
        [
         86
        ],
        [
         179
        ],
        [
         130
        ],
        [
         84
        ],
        [
         63
        ],
        [
         95
        ],
        [
         90
        ],
        [
         141
        ],
        [
         116
        ],
        [
         199
        ],
        [
         66
        ],
        [
         18
        ],
        [
         89
        ],
        [
         85
        ],
        [
         92
        ],
        [
         64
        ],
        [
         87
        ],
        [
         98
        ],
        [
         56
        ],
        [
         67
        ],
        [
         144
        ],
        [
         108
        ],
        [
         128
        ],
        [
         93
        ],
        [
         96
        ],
        [
         175
        ],
        [
         73
        ],
        [
         109
        ],
        [
         71
        ],
        [
         57
        ],
        [
         105
        ],
        [
         215
        ],
        [
         202
        ],
        [
         113
        ],
        [
         156
        ],
        [
         106
        ],
        [
         137
        ],
        [
         111
        ],
        [
         172
        ]
       ],
       "datasetInfos": [],
       "dbfsResultPath": null,
       "isJsonSchema": true,
       "metadata": {},
       "overflow": false,
       "plotOptions": {
        "customPlotOptions": {},
        "displayType": "table",
        "pivotAggregation": null,
        "pivotColumns": null,
        "xColumns": null,
        "yColumns": null
       },
       "removedWidgets": [],
       "schema": [
        {
         "metadata": "{}",
         "name": "Term",
         "type": "\"integer\""
        }
       ],
       "type": "table"
      }
     },
     "output_type": "display_data"
    },
    {
     "output_type": "stream",
     "name": "stdout",
     "output_type": "stream",
     "text": [
      "+-------------------+-----+\n|RuralUrbanIndicator|count|\n+-------------------+-----+\n|                  U|55419|\n|                  R| 6774|\n+-------------------+-----+\n\n+----------------+-----+\n|HubzoneIndicator|count|\n+----------------+-----+\n|               Y|16789|\n|               N|45404|\n+----------------+-----+\n\n+------------+-----+\n|LMIIndicator|count|\n+------------+-----+\n|           Y|16897|\n|           N|45296|\n+------------+-----+\n\n+-------------+-----+\n|  ProjectCity|count|\n+-------------+-----+\n|       NOVATO|   11|\n|    SAN PABLO|    2|\n|  Middlefield|    3|\n|  EAST HADDAM|    1|\n|       Corona|   46|\n|       GILROY|    5|\n|        CHINO|    9|\n|  WATSONVILLE|    8|\n|      MAXWELL|    1|\n|      Truckee|    2|\n|     STAMFORD|   21|\n|       Auburn|   21|\n|  studio city|    1|\n|     Thornton|    5|\n|   Wellington|   12|\n|   PALM BEACH|    1|\n|  LAKE HARBOR|    1|\n|      TUJUNGA|    6|\n|SAN JUAN CAPO|    3|\n|      Corning|    1|\n+-------------+-----+\nonly showing top 20 rows\n\n+-------------+-----+\n| BorrowerCity|count|\n+-------------+-----+\n|       NOVATO|   12|\n|    SAN PABLO|    2|\n|  Middlefield|    3|\n|  EAST HADDAM|    1|\n|       Corona|   44|\n|       GILROY|    5|\n|        CHINO|    9|\n|  WATSONVILLE|    8|\n|      MAXWELL|    1|\n|      Truckee|    2|\n|     STAMFORD|   22|\n|       Auburn|   21|\n|  studio city|    1|\n|     Thornton|    5|\n|   Wellington|   11|\n|   PALM BEACH|    1|\n|  LAKE HARBOR|    1|\n|      TUJUNGA|    6|\n|SAN JUAN CAPO|    3|\n|      Corning|    1|\n+-------------+-----+\nonly showing top 20 rows\n\n"
     ]
    },
    {
     "output_type": "execute_result",
     "data": {
      "text/plain": [
       "DataFrame[OriginatingLenderCity: string, BorrowerCity: string, Term: int, InitialApprovalAmount: double, RuralUrbanIndicator: string, HubzoneIndicator: string, LMIIndicator: string, BusinessAgeDescription: string, ProjectCity: string, JobsReported: int, PAYROLL_PROCEED: double, BusinessType: string, LoanStatus: string, NAICSCode: int, DEBT_INTEREST_PROCEED: double, MORTGAGE_INTEREST_PROCEED: double, REFINANCE_EIDL_PROCEED: double, Gender: string, Veteran: string]"
      ]
     },
     "execution_count": 24,
     "metadata": {},
     "output_type": "execute_result"
    }
   ],
   "source": [
    "display(features_df.select(\"Term\").distinct())\n",
    "\n",
    "features_df.groupBy(\"RuralUrbanIndicator\").count().show()\n",
    "features_df.groupBy(\"HubzoneIndicator\").count().show()\n",
    "features_df.groupBy(\"LMIIndicator\").count().show()\n",
    "features_df.groupBy(\"ProjectCity\").count().show()\n",
    "features_df.groupBy(\"BorrowerCity\").count().show()\n",
    "\n",
    "features_df = features_df.withColumn(\"Term\", features_df[\"Term\"].cast(IntegerType()))\n",
    "\n",
    "features_df.cache()"
   ]
  },
  {
   "cell_type": "code",
   "execution_count": 0,
   "metadata": {
    "application/vnd.databricks.v1+cell": {
     "cellMetadata": {
      "byteLimit": 2048000,
      "rowLimit": 10000
     },
     "inputWidgets": {},
     "nuid": "b660e191-b08c-49d5-a4ef-4f7c1acfae90",
     "showTitle": false,
     "title": ""
    }
   },
   "outputs": [
    {
     "output_type": "stream",
     "name": "stdout",
     "output_type": "stream",
     "text": [
      "+---------------------+------------+----+---------------------+-------------------+----------------+------------+----------------------+-----------+------------+---------------+------------+----------+---------+---------------------+-------------------------+----------------------+------+-------+\n|OriginatingLenderCity|BorrowerCity|Term|InitialApprovalAmount|RuralUrbanIndicator|HubzoneIndicator|LMIIndicator|BusinessAgeDescription|ProjectCity|JobsReported|PAYROLL_PROCEED|BusinessType|LoanStatus|NAICSCode|DEBT_INTEREST_PROCEED|MORTGAGE_INTEREST_PROCEED|REFINANCE_EIDL_PROCEED|Gender|Veteran|\n+---------------------+------------+----+---------------------+-------------------+----------------+------------+----------------------+-----------+------------+---------------+------------+----------+---------+---------------------+-------------------------+----------------------+------+-------+\n|                    0|           0|   0|                    0|                  0|               0|           0|                     0|          0|           0|              0|           0|         0|        0|                    0|                        0|                     0|     0|      0|\n+---------------------+------------+----+---------------------+-------------------+----------------+------------+----------------------+-----------+------------+---------------+------------+----------+---------+---------------------+-------------------------+----------------------+------+-------+\n\n"
     ]
    }
   ],
   "source": [
    "features_df.select([count(when(isnan(c) | col(c).isNull(), c)).alias(c) for c in features_df.columns]).show()"
   ]
  },
  {
   "cell_type": "code",
   "execution_count": 0,
   "metadata": {
    "application/vnd.databricks.v1+cell": {
     "cellMetadata": {
      "byteLimit": 2048000,
      "rowLimit": 10000
     },
     "inputWidgets": {},
     "nuid": "6c8c6667-3374-48df-87e3-275741227325",
     "showTitle": false,
     "title": ""
    }
   },
   "outputs": [],
   "source": []
  },
  {
   "cell_type": "code",
   "execution_count": 0,
   "metadata": {
    "application/vnd.databricks.v1+cell": {
     "cellMetadata": {
      "byteLimit": 2048000,
      "rowLimit": 10000
     },
     "inputWidgets": {},
     "nuid": "f7677aae-4767-4409-bf05-6aa16a95a1fc",
     "showTitle": false,
     "title": ""
    }
   },
   "outputs": [
    {
     "output_type": "stream",
     "name": "stdout",
     "output_type": "stream",
     "text": [
      "root\n |-- OriginatingLenderCity: string (nullable = true)\n |-- BorrowerCity: string (nullable = true)\n |-- Term: integer (nullable = true)\n |-- InitialApprovalAmount: double (nullable = true)\n |-- RuralUrbanIndicator: string (nullable = true)\n |-- HubzoneIndicator: string (nullable = true)\n |-- LMIIndicator: string (nullable = true)\n |-- BusinessAgeDescription: string (nullable = true)\n |-- ProjectCity: string (nullable = true)\n |-- JobsReported: integer (nullable = true)\n |-- PAYROLL_PROCEED: double (nullable = true)\n |-- BusinessType: string (nullable = true)\n |-- LoanStatus: string (nullable = true)\n |-- NAICSCode: integer (nullable = true)\n |-- DEBT_INTEREST_PROCEED: double (nullable = true)\n |-- MORTGAGE_INTEREST_PROCEED: double (nullable = true)\n |-- REFINANCE_EIDL_PROCEED: double (nullable = true)\n |-- Gender: string (nullable = true)\n |-- Veteran: string (nullable = true)\n\n"
     ]
    }
   ],
   "source": [
    "features_df.printSchema()"
   ]
  },
  {
   "cell_type": "code",
   "execution_count": 0,
   "metadata": {
    "application/vnd.databricks.v1+cell": {
     "cellMetadata": {
      "byteLimit": 2048000,
      "rowLimit": 10000
     },
     "inputWidgets": {},
     "nuid": "4410ac5b-5548-46ce-9655-c234b4958f54",
     "showTitle": false,
     "title": ""
    }
   },
   "outputs": [
    {
     "output_type": "stream",
     "name": "stdout",
     "output_type": "stream",
     "text": [
      "Training Dataset Count: 43808\nTest Dataset Count: 18385\n"
     ]
    }
   ],
   "source": [
    "# Split DataFrame into training and test datasets (70% training, 30% test)\n",
    "training_df, test_df = features_df.randomSplit([0.7, 0.3], seed=42)\n",
    "\n",
    "# Print the counts of training and test datasets\n",
    "print(\"Training Dataset Count:\", training_df.count())\n",
    "print(\"Test Dataset Count:\", test_df.count())"
   ]
  },
  {
   "cell_type": "code",
   "execution_count": 0,
   "metadata": {
    "application/vnd.databricks.v1+cell": {
     "cellMetadata": {
      "byteLimit": 2048000,
      "rowLimit": 10000
     },
     "inputWidgets": {},
     "nuid": "86949aa4-ac3f-4274-abb0-ec2f30665b0e",
     "showTitle": false,
     "title": ""
    }
   },
   "outputs": [
    {
     "output_type": "stream",
     "name": "stdout",
     "output_type": "stream",
     "text": [
      "+------------+-----+\n|partition_id|count|\n+------------+-----+\n|           0| 6585|\n|           1| 6150|\n|           2| 6103|\n|           3| 5897|\n|           4| 5011|\n|           5| 4856|\n|           6| 4609|\n|           7| 4597|\n+------------+-----+\n\n+------------+-----+\n|partition_id|count|\n+------------+-----+\n|           0| 2703|\n|           1| 2590|\n|           2| 2550|\n|           3| 2402|\n|           4| 2172|\n|           5| 2103|\n|           6| 1962|\n|           7| 1903|\n+------------+-----+\n\n"
     ]
    }
   ],
   "source": [
    "from pyspark.sql.functions import spark_partition_id\n",
    "spark.conf.get(\"spark.sql.shuffle.partitions\")\n",
    "training_df.withColumn(\"partition_id\", spark_partition_id()).groupBy(\"partition_id\").count().show()\n",
    "test_df.withColumn(\"partition_id\", spark_partition_id()).groupBy(\"partition_id\").count().show()\n"
   ]
  },
  {
   "cell_type": "markdown",
   "metadata": {
    "application/vnd.databricks.v1+cell": {
     "cellMetadata": {
      "byteLimit": 2048000,
      "rowLimit": 10000
     },
     "inputWidgets": {},
     "nuid": "122f1731-f2ee-4352-ae6a-c581fc7e62a9",
     "showTitle": false,
     "title": ""
    }
   },
   "source": [
    "## 2. Build ML Pipeline\n"
   ]
  },
  {
   "cell_type": "code",
   "execution_count": 0,
   "metadata": {
    "application/vnd.databricks.v1+cell": {
     "cellMetadata": {
      "byteLimit": 2048000,
      "rowLimit": 10000
     },
     "inputWidgets": {},
     "nuid": "03a78829-a8c2-4158-9c26-921f663ae909",
     "showTitle": false,
     "title": ""
    }
   },
   "outputs": [],
   "source": [
    "from pyspark.ml.feature import StringIndexer, VectorAssembler, StandardScaler, OneHotEncoder, PCA\n",
    "from pyspark.ml.classification import RandomForestClassifier\n",
    "from pyspark.ml import Pipeline\n",
    "from pyspark.ml.tuning import ParamGridBuilder, CrossValidator\n",
    "from pyspark.sql.functions import countDistinct"
   ]
  },
  {
   "cell_type": "code",
   "execution_count": 0,
   "metadata": {
    "application/vnd.databricks.v1+cell": {
     "cellMetadata": {
      "byteLimit": 2048000,
      "rowLimit": 10000
     },
     "inputWidgets": {},
     "nuid": "f37f3841-87cd-40eb-a55d-e2a45fb72ff4",
     "showTitle": false,
     "title": ""
    }
   },
   "outputs": [],
   "source": [
    "categorical_cols = [ \"OriginatingLenderCity\", \"BorrowerCity\",'LMIIndicator','HubzoneIndicator',\"BusinessType\",\"ProjectCity\",\"BusinessAgeDescription\", \"Gender\", \"Veteran\"]\n",
    "\n",
    "# label = \"LoanStatus\"\n",
    "# features_df.select(\"LoanStatus\").distinct().count()"
   ]
  },
  {
   "cell_type": "code",
   "execution_count": 0,
   "metadata": {
    "application/vnd.databricks.v1+cell": {
     "cellMetadata": {
      "byteLimit": 2048000,
      "rowLimit": 10000
     },
     "inputWidgets": {},
     "nuid": "a7d7447a-ce4c-47c4-8a54-b8bffbae655b",
     "showTitle": false,
     "title": ""
    }
   },
   "outputs": [
    {
     "output_type": "stream",
     "name": "stdout",
     "output_type": "stream",
     "text": [
      "Distinct values in column 'OriginatingLenderCity': 2000\nDistinct values in column 'BorrowerCity': 10295\nDistinct values in column 'LMIIndicator': 2\nDistinct values in column 'HubzoneIndicator': 2\nDistinct values in column 'BusinessType': 23\nDistinct values in column 'ProjectCity': 10294\nDistinct values in column 'BusinessAgeDescription': 5\nDistinct values in column 'Gender': 3\nDistinct values in column 'Veteran': 3\n"
     ]
    }
   ],
   "source": [
    "# Dictionary to store results\n",
    "distinct_counts = {}\n",
    "\n",
    "for col in categorical_cols:\n",
    "    distinct_counts[col] = features_df.select(col).distinct().count()\n",
    "\n",
    "# Display distinct counts\n",
    "for col, count in distinct_counts.items():\n",
    "    print(f\"Distinct values in column '{col}': {count}\")"
   ]
  },
  {
   "cell_type": "code",
   "execution_count": 0,
   "metadata": {
    "application/vnd.databricks.v1+cell": {
     "cellMetadata": {
      "byteLimit": 2048000,
      "rowLimit": 10000
     },
     "inputWidgets": {},
     "nuid": "b6804278-46ba-4035-b7c8-cecc8d82cdb2",
     "showTitle": false,
     "title": ""
    }
   },
   "outputs": [],
   "source": [
    "high_cardinality_features = [\"OriginatingLenderCity\",\"BorrowerCity\",\"BusinessType\",\"ProjectCity\"]\n",
    "\n",
    "low_cardinality_features = ['LMIIndicator','HubzoneIndicator',\"BusinessAgeDescription\",\"Gender\",\"Veteran\"]\n",
    "\n",
    "categorical_features = high_cardinality_features + low_cardinality_features\n",
    "\n",
    "numerical_features = ['Term','InitialApprovalAmount','JobsReported','PAYROLL_PROCEED',\"DEBT_INTEREST_PROCEED\",\"MORTGAGE_INTEREST_PROCEED\",\"REFINANCE_EIDL_PROCEED\"]\n",
    "\n",
    "\n",
    "# Create a list of indexers for high cardinality features\n",
    "indexers = [StringIndexer(inputCol=col, outputCol=col + \"_index\", handleInvalid=\"keep\") for col in categorical_features]\n",
    "\n",
    "# One-hot encode high cardinality features\n",
    "encoder = OneHotEncoder(inputCols=[col + \"_index\" for col in categorical_features], outputCols=[col + \"_encoded\" for col in categorical_features])\n",
    "\n",
    "# high_cardinality_assembler = VectorAssembler(inputCols=[col + \"_index\" for col in high_cardinality_features], outputCol=\"high_cardinality_features\")\n",
    "\n",
    "low_cardinality_assembler = VectorAssembler(inputCols=[col + \"_encoded\" for col in low_cardinality_features], outputCol=\"low_cardinality_features\")\n",
    "\n",
    "# Apply PCA to high cardinality features\n",
    "# pca = PCA(k=3, inputCol=\"high_cardinality_features\", outputCol=\"pca_features\")\n",
    "\n",
    "numerical_assembler = VectorAssembler(inputCols= numerical_features, outputCol=\"numerical_features\")\n",
    "\n",
    "# Scale numerical features\n",
    "scaler = StandardScaler(inputCol=\"numerical_features\", outputCol=\"scaled_numerical\", withStd=True, withMean=True)\n",
    "\n",
    "# Assemble PCA features and scaled numerical features into a single vector\n",
    "assembler = VectorAssembler(inputCols=[\"scaled_numerical\", \"low_cardinality_features\"], outputCol=\"features\")\n",
    "\n",
    "label_indexer = StringIndexer(inputCol=\"LoanStatus\", outputCol=\"label\")\n",
    "\n",
    "# Define Random Forest Classifier\n",
    "rf_classifier = RandomForestClassifier(featuresCol=\"features\", labelCol=\"label\")\n"
   ]
  },
  {
   "cell_type": "code",
   "execution_count": 0,
   "metadata": {
    "application/vnd.databricks.v1+cell": {
     "cellMetadata": {
      "byteLimit": 2048000,
      "rowLimit": 10000
     },
     "inputWidgets": {},
     "nuid": "3e0a8c0b-69a3-49f9-8daa-9b5e8a5db373",
     "showTitle": false,
     "title": ""
    }
   },
   "outputs": [],
   "source": [
    "# Define the pipeline\n",
    "\n",
    "pipeline = Pipeline(stages= [label_indexer] + indexers + [encoder, numerical_assembler, scaler, low_cardinality_assembler, assembler, rf_classifier])\n",
    "\n",
    "model = pipeline.fit(training_df)\n",
    "\n",
    "predictions = model.transform(test_df)"
   ]
  },
  {
   "cell_type": "code",
   "execution_count": 0,
   "metadata": {
    "application/vnd.databricks.v1+cell": {
     "cellMetadata": {
      "byteLimit": 2048000,
      "rowLimit": 10000
     },
     "inputWidgets": {},
     "nuid": "bfff014e-7291-4095-9489-c07136a68e7e",
     "showTitle": false,
     "title": ""
    }
   },
   "outputs": [],
   "source": [
    "# param_grid = ParamGridBuilder() \\\n",
    "#     .addGrid(rf_classifier.numTrees, [50, 100, 150]) \\\n",
    "#     .addGrid(rf_classifier.maxDepth, [5, 7, 9]) \\\n",
    "#     .build()\n",
    "\n",
    "# evaluator = MulticlassClassificationEvaluator(labelCol=\"label\", predictionCol=\"prediction\", metricName=\"accuracy\")\n",
    "\n",
    "# cross_val = CrossValidator(estimator=pipeline,\n",
    "#                            estimatorParamMaps=param_grid,\n",
    "#                            evaluator=evaluator,\n",
    "#                            numFolds=3) \n",
    "# # Train the model\n",
    "# cv_model = cross_val.fit(training_df)\n"
   ]
  },
  {
   "cell_type": "markdown",
   "metadata": {
    "application/vnd.databricks.v1+cell": {
     "cellMetadata": {
      "byteLimit": 2048000,
      "rowLimit": 10000
     },
     "inputWidgets": {},
     "nuid": "339bc069-d8f8-4c5e-8095-e63680985cd2",
     "showTitle": false,
     "title": ""
    }
   },
   "source": [
    "## 3. Evaluate ML Pipeline"
   ]
  },
  {
   "cell_type": "code",
   "execution_count": 0,
   "metadata": {
    "application/vnd.databricks.v1+cell": {
     "cellMetadata": {
      "byteLimit": 2048000,
      "rowLimit": 10000
     },
     "inputWidgets": {},
     "nuid": "b1207950-6146-4281-83ff-e4d9ab970611",
     "showTitle": false,
     "title": ""
    }
   },
   "outputs": [],
   "source": [
    "from pyspark.ml.evaluation import MulticlassClassificationEvaluator"
   ]
  },
  {
   "cell_type": "code",
   "execution_count": 0,
   "metadata": {
    "application/vnd.databricks.v1+cell": {
     "cellMetadata": {
      "byteLimit": 2048000,
      "rowLimit": 10000
     },
     "inputWidgets": {},
     "nuid": "1f10e2c7-ad7f-47ba-9806-13aa48a7d0f4",
     "showTitle": false,
     "title": ""
    }
   },
   "outputs": [],
   "source": [
    "# train_predictions = cv_model.transform(training_df)\n",
    "\n",
    "# # Evaluate the model\n",
    "# accuracy = evaluator.evaluate(train_predictions)\n",
    "# print(\"Test Accuracy:\", accuracy)\n",
    "\n",
    "# # Best model\n",
    "# best_model = cv_model.bestModel\n",
    "# print(\"Best Model Parameters:\")\n",
    "# print(\"Num Trees:\", best_model.stages[-1]._java_obj.getNumTrees())\n",
    "# print(\"Max Depth:\", best_model.stages[-1]._java_obj.getMaxDepth())\n"
   ]
  },
  {
   "cell_type": "code",
   "execution_count": 0,
   "metadata": {
    "application/vnd.databricks.v1+cell": {
     "cellMetadata": {
      "byteLimit": 2048000,
      "rowLimit": 10000
     },
     "inputWidgets": {},
     "nuid": "b7fb87d0-bf5c-4f69-a7e8-f17049135fbe",
     "showTitle": false,
     "title": ""
    }
   },
   "outputs": [
    {
     "output_type": "stream",
     "name": "stdout",
     "output_type": "stream",
     "text": [
      "Test Accuracy: 0.8136185171658145\n"
     ]
    }
   ],
   "source": [
    "# Make predictions on the test dataset\n",
    "train_predictions = model.transform(training_df)\n",
    "\n",
    "# Evaluate the model on the test dataset\n",
    "training_evaluator = MulticlassClassificationEvaluator(labelCol=\"label\", predictionCol=\"prediction\", metricName=\"accuracy\")\n",
    "training_accuracy = training_evaluator.evaluate(train_predictions)\n",
    "print(\"Test Accuracy:\", training_accuracy)"
   ]
  },
  {
   "cell_type": "code",
   "execution_count": 0,
   "metadata": {
    "application/vnd.databricks.v1+cell": {
     "cellMetadata": {
      "byteLimit": 2048000,
      "rowLimit": 10000
     },
     "inputWidgets": {},
     "nuid": "48f37c77-de20-4555-a0da-0d1b615e70f9",
     "showTitle": false,
     "title": ""
    }
   },
   "outputs": [
    {
     "output_type": "stream",
     "name": "stdout",
     "output_type": "stream",
     "text": [
      "Test Accuracy: 0.8110416100081588\n"
     ]
    }
   ],
   "source": [
    "# Make predictions on the test dataset\n",
    "test_predictions = model.transform(test_df)\n",
    "\n",
    "# Evaluate the model on the test dataset\n",
    "test_evaluator = MulticlassClassificationEvaluator(labelCol=\"label\", predictionCol=\"prediction\", metricName=\"accuracy\")\n",
    "test_accuracy = test_evaluator.evaluate(test_predictions)\n",
    "print(\"Test Accuracy:\", test_accuracy)"
   ]
  }
 ],
 "metadata": {
  "application/vnd.databricks.v1+notebook": {
   "dashboards": [],
   "language": "python",
   "notebookMetadata": {
    "mostRecentlyExecutedCommandWithImplicitDF": {
     "commandId": 3187503722241189,
     "dataframes": [
      "_sqldf"
     ]
    },
    "pythonIndentUnit": 4
   },
   "notebookName": "assignment_2_student Ang Qi Jie Fabian copy",
   "widgets": {}
  }
 },
 "nbformat": 4,
 "nbformat_minor": 0
}
